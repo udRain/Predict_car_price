{
 "cells": [
  {
   "cell_type": "markdown",
   "metadata": {},
   "source": [
    "# Capstone Project"
   ]
  },
  {
   "cell_type": "markdown",
   "metadata": {},
   "source": [
    "Rui Cao, Udacity"
   ]
  },
  {
   "cell_type": "markdown",
   "metadata": {},
   "source": [
    "## I. Definition"
   ]
  },
  {
   "cell_type": "markdown",
   "metadata": {},
   "source": [
    "### Project Overview: "
   ]
  },
  {
   "cell_type": "markdown",
   "metadata": {},
   "source": [
    "In the used car market, one important problem is to determine a used car's price. A seller always tries to sell the car with a price as high as possible. Meanwhile, price of a car is often a very significant factor for the costumer's choice of buying. So, an effective estimation of price would provide very useful guide for both the sellers and buyers when dealing with a used car. Generally speaking, the determination of a used car's price depends on its brand, model, year of usage, and many other factors. This makes the determination of a used car very complicated. Therefore, a machine learning method would be proper to explore the hidden relation between those factors and the used car's price.\n",
    "\n",
    "Once the model is established, it can provide some references to other problems as well. For example, evaluating the attrition of a current processed car, or predicting whether a car needs to be replaced. "
   ]
  },
  {
   "cell_type": "markdown",
   "metadata": {},
   "source": [
    "### Problem Statement:"
   ]
  },
  {
   "cell_type": "markdown",
   "metadata": {},
   "source": [
    "This problem is for a dataset crawled from ebay. The dataset provides every\n",
    "details of the used car ads posted on ebay within a period of time, from March 2016\n",
    "to April 2016. Most of the details are presumably related the price determination.\n",
    "Moreover, most of those details can be quantified or treated in a quantitative way.\n",
    "Meanwhile, as the price appears in the format of a number, one way to compare the\n",
    "prediction and actual value is to take an absolute value of the difference between these two quantities, i.e. the absolute error. From all the above, it is\n",
    "expected that a prediction of the car's price can be made based on these information\n",
    "through the method of machine learning.\n",
    "\n",
    "The dataset consists 371528 rows of data. Each row represents the data of a used car ads and contains following fields:\n",
    "\n",
    "[dateCrawled] The date when the ad was first crawled. All other fields comes from the ad on this date.\n",
    "\n",
    "[name] Name of the car, it may contain information of brand, model, etc.\n",
    "\n",
    "[seller] Private seller or dealer.\n",
    "\n",
    "[offerType] Offer type is the same for all data, so this field is useless.\n",
    "\n",
    "[price] The price on the ad to sell the car. This is the quantity needs to be estimated. So this field will removed from the data.\\item[abtest] A ebay-intern variable.\n",
    "\n",
    "[vehicleType] One of the eight vehicle categories.\n",
    "\n",
    "[yearOfRegistration] The year that the car was first registered.\n",
    "\n",
    "[gearbox] Type of the car's gearbox, manual or automatic.\n",
    "\n",
    "[powerPS] Power of the car in PS.\n",
    "\n",
    "[model] The car's model.\n",
    "\n",
    "[kilometer] Number of kilometers the car has driven.\n",
    "\n",
    "[monthOfRegistration] The month that the car was first registered.\n",
    "\n",
    "[fuelType] One of the seven fuel categories of a car.\n",
    "\n",
    "[brand] Brand of a car.\n",
    "\n",
    "[notRepairedDamage] If the has a damage which is not repaired yet.\n",
    "\n",
    "[dateCreated] The data for which the ad at ebay was created.\n",
    "\n",
    "[nrOfPictures] Since there is a bug in the crawler, all numbers in this field is 0. So the field is useless.\n",
    "\n",
    "[postalCode] The place in Germany where the car is located in.\n",
    "\n",
    "[lastSeenOnline] The time that the crawler saw this ad last online."
   ]
  },
  {
   "cell_type": "markdown",
   "metadata": {},
   "source": [
    "### Metrics:"
   ]
  },
  {
   "cell_type": "markdown",
   "metadata": {},
   "source": [
    "Since the price of a car appears to be a number. The actual price advertised can be directly compared with the prediction price. The model may be evaluated using mean absolute error between the two prices, which are:\n",
    "\n",
    "\\begin{equation*}\n",
    "E_{abs}=\\frac{\\sum_{i=1}^N |P_{p}-P_{a}|}{N}\n",
    "\\end{equation*}\n",
    "\n",
    "where $E_{abs}$ is the mean absolute error, $P_p$ is the prediction of the car's price, $P_a$ is the car price advertised."
   ]
  },
  {
   "cell_type": "markdown",
   "metadata": {},
   "source": [
    "## II.Analysis "
   ]
  },
  {
   "cell_type": "markdown",
   "metadata": {},
   "source": [
    "### Data Exploration:"
   ]
  },
  {
   "cell_type": "markdown",
   "metadata": {},
   "source": [
    "First import neccessary tools and the dataset. Some samples are presented to have a first observation of the dataset."
   ]
  },
  {
   "cell_type": "code",
   "execution_count": 1,
   "metadata": {},
   "outputs": [
    {
     "data": {
      "text/html": [
       "<div>\n",
       "<style>\n",
       "    .dataframe thead tr:only-child th {\n",
       "        text-align: right;\n",
       "    }\n",
       "\n",
       "    .dataframe thead th {\n",
       "        text-align: left;\n",
       "    }\n",
       "\n",
       "    .dataframe tbody tr th {\n",
       "        vertical-align: top;\n",
       "    }\n",
       "</style>\n",
       "<table border=\"1\" class=\"dataframe\">\n",
       "  <thead>\n",
       "    <tr style=\"text-align: right;\">\n",
       "      <th></th>\n",
       "      <th>0</th>\n",
       "      <th>1</th>\n",
       "      <th>2</th>\n",
       "      <th>3</th>\n",
       "    </tr>\n",
       "  </thead>\n",
       "  <tbody>\n",
       "    <tr>\n",
       "      <th>dateCrawled</th>\n",
       "      <td>2016-03-24 11:52:17</td>\n",
       "      <td>2016-03-24 10:58:45</td>\n",
       "      <td>2016-03-14 12:52:21</td>\n",
       "      <td>2016-03-17 16:54:04</td>\n",
       "    </tr>\n",
       "    <tr>\n",
       "      <th>name</th>\n",
       "      <td>Golf_3_1.6</td>\n",
       "      <td>A5_Sportback_2.7_Tdi</td>\n",
       "      <td>Jeep_Grand_Cherokee_\"Overland\"</td>\n",
       "      <td>GOLF_4_1_4__3T�RER</td>\n",
       "    </tr>\n",
       "    <tr>\n",
       "      <th>seller</th>\n",
       "      <td>privat</td>\n",
       "      <td>privat</td>\n",
       "      <td>privat</td>\n",
       "      <td>privat</td>\n",
       "    </tr>\n",
       "    <tr>\n",
       "      <th>offerType</th>\n",
       "      <td>Angebot</td>\n",
       "      <td>Angebot</td>\n",
       "      <td>Angebot</td>\n",
       "      <td>Angebot</td>\n",
       "    </tr>\n",
       "    <tr>\n",
       "      <th>price</th>\n",
       "      <td>480</td>\n",
       "      <td>18300</td>\n",
       "      <td>9800</td>\n",
       "      <td>1500</td>\n",
       "    </tr>\n",
       "    <tr>\n",
       "      <th>abtest</th>\n",
       "      <td>test</td>\n",
       "      <td>test</td>\n",
       "      <td>test</td>\n",
       "      <td>test</td>\n",
       "    </tr>\n",
       "    <tr>\n",
       "      <th>vehicleType</th>\n",
       "      <td></td>\n",
       "      <td>coupe</td>\n",
       "      <td>suv</td>\n",
       "      <td>kleinwagen</td>\n",
       "    </tr>\n",
       "    <tr>\n",
       "      <th>yearOfRegistration</th>\n",
       "      <td>1993</td>\n",
       "      <td>2011</td>\n",
       "      <td>2004</td>\n",
       "      <td>2001</td>\n",
       "    </tr>\n",
       "    <tr>\n",
       "      <th>gearbox</th>\n",
       "      <td>manuell</td>\n",
       "      <td>manuell</td>\n",
       "      <td>automatik</td>\n",
       "      <td>manuell</td>\n",
       "    </tr>\n",
       "    <tr>\n",
       "      <th>powerPS</th>\n",
       "      <td>0</td>\n",
       "      <td>190</td>\n",
       "      <td>163</td>\n",
       "      <td>75</td>\n",
       "    </tr>\n",
       "    <tr>\n",
       "      <th>model</th>\n",
       "      <td>golf</td>\n",
       "      <td></td>\n",
       "      <td>grand</td>\n",
       "      <td>golf</td>\n",
       "    </tr>\n",
       "    <tr>\n",
       "      <th>kilometer</th>\n",
       "      <td>150000</td>\n",
       "      <td>125000</td>\n",
       "      <td>125000</td>\n",
       "      <td>150000</td>\n",
       "    </tr>\n",
       "    <tr>\n",
       "      <th>monthOfRegistration</th>\n",
       "      <td>0</td>\n",
       "      <td>5</td>\n",
       "      <td>8</td>\n",
       "      <td>6</td>\n",
       "    </tr>\n",
       "    <tr>\n",
       "      <th>fuelType</th>\n",
       "      <td>benzin</td>\n",
       "      <td>diesel</td>\n",
       "      <td>diesel</td>\n",
       "      <td>benzin</td>\n",
       "    </tr>\n",
       "    <tr>\n",
       "      <th>brand</th>\n",
       "      <td>volkswagen</td>\n",
       "      <td>audi</td>\n",
       "      <td>jeep</td>\n",
       "      <td>volkswagen</td>\n",
       "    </tr>\n",
       "    <tr>\n",
       "      <th>notRepairedDamage</th>\n",
       "      <td></td>\n",
       "      <td>ja</td>\n",
       "      <td></td>\n",
       "      <td>nein</td>\n",
       "    </tr>\n",
       "    <tr>\n",
       "      <th>dateCreated</th>\n",
       "      <td>2016-03-24 00:00:00</td>\n",
       "      <td>2016-03-24 00:00:00</td>\n",
       "      <td>2016-03-14 00:00:00</td>\n",
       "      <td>2016-03-17 00:00:00</td>\n",
       "    </tr>\n",
       "    <tr>\n",
       "      <th>nrOfPictures</th>\n",
       "      <td>0</td>\n",
       "      <td>0</td>\n",
       "      <td>0</td>\n",
       "      <td>0</td>\n",
       "    </tr>\n",
       "    <tr>\n",
       "      <th>postalCode</th>\n",
       "      <td>70435</td>\n",
       "      <td>66954</td>\n",
       "      <td>90480</td>\n",
       "      <td>91074</td>\n",
       "    </tr>\n",
       "    <tr>\n",
       "      <th>lastSeen</th>\n",
       "      <td>2016-04-07 03:16:57</td>\n",
       "      <td>2016-04-07 01:46:50</td>\n",
       "      <td>2016-04-05 12:47:46</td>\n",
       "      <td>2016-03-17 17:40:17</td>\n",
       "    </tr>\n",
       "  </tbody>\n",
       "</table>\n",
       "</div>"
      ],
      "text/plain": [
       "                                       0                     1  \\\n",
       "dateCrawled          2016-03-24 11:52:17   2016-03-24 10:58:45   \n",
       "name                          Golf_3_1.6  A5_Sportback_2.7_Tdi   \n",
       "seller                            privat                privat   \n",
       "offerType                        Angebot               Angebot   \n",
       "price                                480                 18300   \n",
       "abtest                              test                  test   \n",
       "vehicleType                                              coupe   \n",
       "yearOfRegistration                  1993                  2011   \n",
       "gearbox                          manuell               manuell   \n",
       "powerPS                                0                   190   \n",
       "model                               golf                         \n",
       "kilometer                         150000                125000   \n",
       "monthOfRegistration                    0                     5   \n",
       "fuelType                          benzin                diesel   \n",
       "brand                         volkswagen                  audi   \n",
       "notRepairedDamage                                           ja   \n",
       "dateCreated          2016-03-24 00:00:00   2016-03-24 00:00:00   \n",
       "nrOfPictures                           0                     0   \n",
       "postalCode                         70435                 66954   \n",
       "lastSeen             2016-04-07 03:16:57   2016-04-07 01:46:50   \n",
       "\n",
       "                                                  2                    3  \n",
       "dateCrawled                     2016-03-14 12:52:21  2016-03-17 16:54:04  \n",
       "name                 Jeep_Grand_Cherokee_\"Overland\"   GOLF_4_1_4__3T�RER  \n",
       "seller                                       privat               privat  \n",
       "offerType                                   Angebot              Angebot  \n",
       "price                                          9800                 1500  \n",
       "abtest                                         test                 test  \n",
       "vehicleType                                     suv           kleinwagen  \n",
       "yearOfRegistration                             2004                 2001  \n",
       "gearbox                                   automatik              manuell  \n",
       "powerPS                                         163                   75  \n",
       "model                                         grand                 golf  \n",
       "kilometer                                    125000               150000  \n",
       "monthOfRegistration                               8                    6  \n",
       "fuelType                                     diesel               benzin  \n",
       "brand                                          jeep           volkswagen  \n",
       "notRepairedDamage                                                   nein  \n",
       "dateCreated                     2016-03-14 00:00:00  2016-03-17 00:00:00  \n",
       "nrOfPictures                                      0                    0  \n",
       "postalCode                                    90480                91074  \n",
       "lastSeen                        2016-04-05 12:47:46  2016-03-17 17:40:17  "
      ]
     },
     "metadata": {},
     "output_type": "display_data"
    },
    {
     "data": {
      "text/html": [
       "<div>\n",
       "<style>\n",
       "    .dataframe thead tr:only-child th {\n",
       "        text-align: right;\n",
       "    }\n",
       "\n",
       "    .dataframe thead th {\n",
       "        text-align: left;\n",
       "    }\n",
       "\n",
       "    .dataframe tbody tr th {\n",
       "        vertical-align: top;\n",
       "    }\n",
       "</style>\n",
       "<table border=\"1\" class=\"dataframe\">\n",
       "  <thead>\n",
       "    <tr style=\"text-align: right;\">\n",
       "      <th></th>\n",
       "      <th>371525</th>\n",
       "      <th>371526</th>\n",
       "      <th>371527</th>\n",
       "    </tr>\n",
       "  </thead>\n",
       "  <tbody>\n",
       "    <tr>\n",
       "      <th>dateCrawled</th>\n",
       "      <td>2016-03-19 18:57:12</td>\n",
       "      <td>2016-03-20 19:41:08</td>\n",
       "      <td>2016-03-07 19:39:19</td>\n",
       "    </tr>\n",
       "    <tr>\n",
       "      <th>name</th>\n",
       "      <td>Volkswagen_Multivan_T4_TDI_7DC_UY2</td>\n",
       "      <td>VW_Golf_Kombi_1_9l_TDI</td>\n",
       "      <td>BMW_M135i_vollausgestattet_NP_52.720____Euro</td>\n",
       "    </tr>\n",
       "    <tr>\n",
       "      <th>seller</th>\n",
       "      <td>privat</td>\n",
       "      <td>privat</td>\n",
       "      <td>privat</td>\n",
       "    </tr>\n",
       "    <tr>\n",
       "      <th>offerType</th>\n",
       "      <td>Angebot</td>\n",
       "      <td>Angebot</td>\n",
       "      <td>Angebot</td>\n",
       "    </tr>\n",
       "    <tr>\n",
       "      <th>price</th>\n",
       "      <td>9200</td>\n",
       "      <td>3400</td>\n",
       "      <td>28990</td>\n",
       "    </tr>\n",
       "    <tr>\n",
       "      <th>abtest</th>\n",
       "      <td>test</td>\n",
       "      <td>test</td>\n",
       "      <td>control</td>\n",
       "    </tr>\n",
       "    <tr>\n",
       "      <th>vehicleType</th>\n",
       "      <td>bus</td>\n",
       "      <td>kombi</td>\n",
       "      <td>limousine</td>\n",
       "    </tr>\n",
       "    <tr>\n",
       "      <th>yearOfRegistration</th>\n",
       "      <td>1996</td>\n",
       "      <td>2002</td>\n",
       "      <td>2013</td>\n",
       "    </tr>\n",
       "    <tr>\n",
       "      <th>gearbox</th>\n",
       "      <td>manuell</td>\n",
       "      <td>manuell</td>\n",
       "      <td>manuell</td>\n",
       "    </tr>\n",
       "    <tr>\n",
       "      <th>powerPS</th>\n",
       "      <td>102</td>\n",
       "      <td>100</td>\n",
       "      <td>320</td>\n",
       "    </tr>\n",
       "    <tr>\n",
       "      <th>model</th>\n",
       "      <td>transporter</td>\n",
       "      <td>golf</td>\n",
       "      <td>m_reihe</td>\n",
       "    </tr>\n",
       "    <tr>\n",
       "      <th>kilometer</th>\n",
       "      <td>150000</td>\n",
       "      <td>150000</td>\n",
       "      <td>50000</td>\n",
       "    </tr>\n",
       "    <tr>\n",
       "      <th>monthOfRegistration</th>\n",
       "      <td>3</td>\n",
       "      <td>6</td>\n",
       "      <td>8</td>\n",
       "    </tr>\n",
       "    <tr>\n",
       "      <th>fuelType</th>\n",
       "      <td>diesel</td>\n",
       "      <td>diesel</td>\n",
       "      <td>benzin</td>\n",
       "    </tr>\n",
       "    <tr>\n",
       "      <th>brand</th>\n",
       "      <td>volkswagen</td>\n",
       "      <td>volkswagen</td>\n",
       "      <td>bmw</td>\n",
       "    </tr>\n",
       "    <tr>\n",
       "      <th>notRepairedDamage</th>\n",
       "      <td>nein</td>\n",
       "      <td></td>\n",
       "      <td>nein</td>\n",
       "    </tr>\n",
       "    <tr>\n",
       "      <th>dateCreated</th>\n",
       "      <td>2016-03-19 00:00:00</td>\n",
       "      <td>2016-03-20 00:00:00</td>\n",
       "      <td>2016-03-07 00:00:00</td>\n",
       "    </tr>\n",
       "    <tr>\n",
       "      <th>nrOfPictures</th>\n",
       "      <td>0</td>\n",
       "      <td>0</td>\n",
       "      <td>0</td>\n",
       "    </tr>\n",
       "    <tr>\n",
       "      <th>postalCode</th>\n",
       "      <td>87439</td>\n",
       "      <td>40764</td>\n",
       "      <td>73326</td>\n",
       "    </tr>\n",
       "    <tr>\n",
       "      <th>lastSeen</th>\n",
       "      <td>2016-04-07 07:15:26</td>\n",
       "      <td>2016-03-24 12:45:21</td>\n",
       "      <td>2016-03-22 03:17:10</td>\n",
       "    </tr>\n",
       "  </tbody>\n",
       "</table>\n",
       "</div>"
      ],
      "text/plain": [
       "                                                 371525  \\\n",
       "dateCrawled                         2016-03-19 18:57:12   \n",
       "name                 Volkswagen_Multivan_T4_TDI_7DC_UY2   \n",
       "seller                                           privat   \n",
       "offerType                                       Angebot   \n",
       "price                                              9200   \n",
       "abtest                                             test   \n",
       "vehicleType                                         bus   \n",
       "yearOfRegistration                                 1996   \n",
       "gearbox                                         manuell   \n",
       "powerPS                                             102   \n",
       "model                                       transporter   \n",
       "kilometer                                        150000   \n",
       "monthOfRegistration                                   3   \n",
       "fuelType                                         diesel   \n",
       "brand                                        volkswagen   \n",
       "notRepairedDamage                                  nein   \n",
       "dateCreated                         2016-03-19 00:00:00   \n",
       "nrOfPictures                                          0   \n",
       "postalCode                                        87439   \n",
       "lastSeen                            2016-04-07 07:15:26   \n",
       "\n",
       "                                     371526  \\\n",
       "dateCrawled             2016-03-20 19:41:08   \n",
       "name                 VW_Golf_Kombi_1_9l_TDI   \n",
       "seller                               privat   \n",
       "offerType                           Angebot   \n",
       "price                                  3400   \n",
       "abtest                                 test   \n",
       "vehicleType                           kombi   \n",
       "yearOfRegistration                     2002   \n",
       "gearbox                             manuell   \n",
       "powerPS                                 100   \n",
       "model                                  golf   \n",
       "kilometer                            150000   \n",
       "monthOfRegistration                       6   \n",
       "fuelType                             diesel   \n",
       "brand                            volkswagen   \n",
       "notRepairedDamage                             \n",
       "dateCreated             2016-03-20 00:00:00   \n",
       "nrOfPictures                              0   \n",
       "postalCode                            40764   \n",
       "lastSeen                2016-03-24 12:45:21   \n",
       "\n",
       "                                                           371527  \n",
       "dateCrawled                                   2016-03-07 19:39:19  \n",
       "name                 BMW_M135i_vollausgestattet_NP_52.720____Euro  \n",
       "seller                                                     privat  \n",
       "offerType                                                 Angebot  \n",
       "price                                                       28990  \n",
       "abtest                                                    control  \n",
       "vehicleType                                             limousine  \n",
       "yearOfRegistration                                           2013  \n",
       "gearbox                                                   manuell  \n",
       "powerPS                                                       320  \n",
       "model                                                     m_reihe  \n",
       "kilometer                                                   50000  \n",
       "monthOfRegistration                                             8  \n",
       "fuelType                                                   benzin  \n",
       "brand                                                         bmw  \n",
       "notRepairedDamage                                            nein  \n",
       "dateCreated                                   2016-03-07 00:00:00  \n",
       "nrOfPictures                                                    0  \n",
       "postalCode                                                  73326  \n",
       "lastSeen                                      2016-03-22 03:17:10  "
      ]
     },
     "metadata": {},
     "output_type": "display_data"
    }
   ],
   "source": [
    "import numpy as np\n",
    "import pandas as pd\n",
    "import matplotlib.pyplot as plt\n",
    "from IPython.display import display\n",
    "\n",
    "%matplotlib inline\n",
    "\n",
    "data = pd.read_csv(\"autos.csv\",keep_default_na=False)\n",
    "\n",
    "display(data.head(4).transpose())\n",
    "display(data.tail(3).transpose())"
   ]
  },
  {
   "cell_type": "markdown",
   "metadata": {},
   "source": [
    "First observation provides following conclusions:\n",
    "\n",
    "1. It's hard to tell the meaning of the 'abtest' field. So it's difficult to explore the relation between this field and price determination.\n",
    "\n",
    "2. The field 'name' basicly contains the information of a car's brand and model, so that field is closed related to the fields of 'brand' and 'model'.\n",
    "\n",
    "3. The fields 'seller', 'offerType' and 'nrOfPictures' are possiblly having the same value for all records. If that is true, then those fields are useless for price determination.\n",
    "\n",
    "4. The fields 'vehicleType', 'model', 'gearbox', 'feulType' and 'notRepairedDamage' are having some records without value in it, i.e., having an empty string as the value. So all potential useful fields will be checked to see if there are the records having empty values in the field.\n",
    "\n",
    "5. There are unreasonable values in 'powerPS' and 'monthOfRegistration' fields. They are supposed to be non-zero. So all numerical fields will be checked to see if there are unreasonable values.\n",
    "\n",
    "6. Though 'monthOfRegistration' and 'postalCode' appear in numerical forms, they don't have specific quantitative meanings with respect to the price determination. So they should be treated the same as text fields.\n",
    "\n",
    "7. The date fields, 'dateCrawled', 'dateCreated' and 'lastSeen'appear in text forms. But they can be transformed into numerical forms by calculating the number of days between the value and a fixed level date."
   ]
  },
  {
   "cell_type": "markdown",
   "metadata": {},
   "source": [
    "Now we check the distribution of the data in 'seller', 'offerType' and 'nrOfPicutres' fields."
   ]
  },
  {
   "cell_type": "code",
   "execution_count": 2,
   "metadata": {},
   "outputs": [
    {
     "data": {
      "text/plain": [
       "\"Distribution of data in the 'seller' field.\""
      ]
     },
     "metadata": {},
     "output_type": "display_data"
    },
    {
     "data": {
      "text/plain": [
       "seller\n",
       "gewerblich         3\n",
       "privat        371525\n",
       "dtype: int64"
      ]
     },
     "metadata": {},
     "output_type": "display_data"
    },
    {
     "data": {
      "text/plain": [
       "\"Distribution of data in the 'offerType' field.\""
      ]
     },
     "metadata": {},
     "output_type": "display_data"
    },
    {
     "data": {
      "text/plain": [
       "offerType\n",
       "Angebot    371516\n",
       "Gesuch         12\n",
       "dtype: int64"
      ]
     },
     "metadata": {},
     "output_type": "display_data"
    },
    {
     "data": {
      "text/plain": [
       "\"Distribution of data in the 'nrOfPictures' field.\""
      ]
     },
     "metadata": {},
     "output_type": "display_data"
    },
    {
     "data": {
      "text/plain": [
       "nrOfPictures\n",
       "0    371528\n",
       "dtype: int64"
      ]
     },
     "metadata": {},
     "output_type": "display_data"
    }
   ],
   "source": [
    "display(\"Distribution of data in the 'seller' field.\")\n",
    "display(data.groupby('seller').size())\n",
    "display(\"Distribution of data in the 'offerType' field.\")\n",
    "display(data.groupby('offerType').size())\n",
    "display(\"Distribution of data in the 'nrOfPictures' field.\")\n",
    "display(data.groupby('nrOfPictures').size())"
   ]
  },
  {
   "cell_type": "markdown",
   "metadata": {},
   "source": [
    "As can be seen, all records have the same value in 'nrOfPictures' field. So this feature is useless for price determination and will be dropped from the dataset. While too few records are having value 'Gesuch' in the 'offerType' field, or value 'gewerblich' in the 'seller' field. So those records won't be considered in this problem. Then the two fields will be dropped from the dataset."
   ]
  },
  {
   "cell_type": "markdown",
   "metadata": {},
   "source": [
    "For all the other text fields, check if there records with empty values in those fields."
   ]
  },
  {
   "cell_type": "code",
   "execution_count": 3,
   "metadata": {},
   "outputs": [
    {
     "name": "stdout",
     "output_type": "stream",
     "text": [
      "There are  0 records with empty values in the field 'dateCrawled'.\n",
      "There are  0 records with empty values in the field 'name'.\n",
      "There are  0 records with empty values in the field 'abtest'.\n",
      "There are  37869 records with empty values in the field 'vehicleType'.\n",
      "There are  20209 records with empty values in the field 'gearbox'.\n",
      "There are  20484 records with empty values in the field 'model'.\n",
      "There are  33386 records with empty values in the field 'fuelType'.\n",
      "There are  0 records with empty values in the field 'brand'.\n",
      "There are  72060 records with empty values in the field 'notRepairedDamage'.\n",
      "There are  0 records with empty values in the field 'dateCreated'.\n",
      "There are  0 records with empty values in the field 'lastSeen'.\n"
     ]
    }
   ],
   "source": [
    "fields_to_check=['dateCrawled','name','abtest','vehicleType','gearbox','model','fuelType',\\\n",
    "                 'brand','notRepairedDamage','dateCreated','lastSeen']\n",
    "for field in fields_to_check:\n",
    "    print(\"There are  {} records with empty values in the field '{}'.\".format(len(data[data[field]=='']),field))"
   ]
  },
  {
   "cell_type": "markdown",
   "metadata": {},
   "source": [
    "As mentioned before, missing value in the 'model' field may be repaired by the information extracted from the 'name' field. While for missing valus in other fields 'vehicleType', 'gearbox', 'fuelType' and 'notRepairedDamage', there are no obvious way to repair them using existed information. So those records with empty values in these four fields will be discarded."
   ]
  },
  {
   "cell_type": "markdown",
   "metadata": {},
   "source": [
    "Then take a look at the numerical fields, to see if there are any unreasonable values in the fields."
   ]
  },
  {
   "cell_type": "code",
   "execution_count": 4,
   "metadata": {},
   "outputs": [
    {
     "data": {
      "text/html": [
       "<div>\n",
       "<style>\n",
       "    .dataframe thead tr:only-child th {\n",
       "        text-align: right;\n",
       "    }\n",
       "\n",
       "    .dataframe thead th {\n",
       "        text-align: left;\n",
       "    }\n",
       "\n",
       "    .dataframe tbody tr th {\n",
       "        vertical-align: top;\n",
       "    }\n",
       "</style>\n",
       "<table border=\"1\" class=\"dataframe\">\n",
       "  <thead>\n",
       "    <tr style=\"text-align: right;\">\n",
       "      <th></th>\n",
       "      <th>price</th>\n",
       "      <th>yearOfRegistration</th>\n",
       "      <th>powerPS</th>\n",
       "      <th>kilometer</th>\n",
       "      <th>monthOfRegistration</th>\n",
       "      <th>postalCode</th>\n",
       "    </tr>\n",
       "  </thead>\n",
       "  <tbody>\n",
       "    <tr>\n",
       "      <th>count</th>\n",
       "      <td>3.715280e+05</td>\n",
       "      <td>371528.000000</td>\n",
       "      <td>371528.000000</td>\n",
       "      <td>371528.000000</td>\n",
       "      <td>371528.000000</td>\n",
       "      <td>371528.00000</td>\n",
       "    </tr>\n",
       "    <tr>\n",
       "      <th>mean</th>\n",
       "      <td>1.729514e+04</td>\n",
       "      <td>2004.577997</td>\n",
       "      <td>115.549477</td>\n",
       "      <td>125618.688228</td>\n",
       "      <td>5.734445</td>\n",
       "      <td>50820.66764</td>\n",
       "    </tr>\n",
       "    <tr>\n",
       "      <th>std</th>\n",
       "      <td>3.587954e+06</td>\n",
       "      <td>92.866598</td>\n",
       "      <td>192.139578</td>\n",
       "      <td>40112.337051</td>\n",
       "      <td>3.712412</td>\n",
       "      <td>25799.08247</td>\n",
       "    </tr>\n",
       "    <tr>\n",
       "      <th>min</th>\n",
       "      <td>0.000000e+00</td>\n",
       "      <td>1000.000000</td>\n",
       "      <td>0.000000</td>\n",
       "      <td>5000.000000</td>\n",
       "      <td>0.000000</td>\n",
       "      <td>1067.00000</td>\n",
       "    </tr>\n",
       "    <tr>\n",
       "      <th>25%</th>\n",
       "      <td>1.150000e+03</td>\n",
       "      <td>1999.000000</td>\n",
       "      <td>70.000000</td>\n",
       "      <td>125000.000000</td>\n",
       "      <td>3.000000</td>\n",
       "      <td>30459.00000</td>\n",
       "    </tr>\n",
       "    <tr>\n",
       "      <th>50%</th>\n",
       "      <td>2.950000e+03</td>\n",
       "      <td>2003.000000</td>\n",
       "      <td>105.000000</td>\n",
       "      <td>150000.000000</td>\n",
       "      <td>6.000000</td>\n",
       "      <td>49610.00000</td>\n",
       "    </tr>\n",
       "    <tr>\n",
       "      <th>75%</th>\n",
       "      <td>7.200000e+03</td>\n",
       "      <td>2008.000000</td>\n",
       "      <td>150.000000</td>\n",
       "      <td>150000.000000</td>\n",
       "      <td>9.000000</td>\n",
       "      <td>71546.00000</td>\n",
       "    </tr>\n",
       "    <tr>\n",
       "      <th>max</th>\n",
       "      <td>2.147484e+09</td>\n",
       "      <td>9999.000000</td>\n",
       "      <td>20000.000000</td>\n",
       "      <td>150000.000000</td>\n",
       "      <td>12.000000</td>\n",
       "      <td>99998.00000</td>\n",
       "    </tr>\n",
       "  </tbody>\n",
       "</table>\n",
       "</div>"
      ],
      "text/plain": [
       "              price  yearOfRegistration        powerPS      kilometer  \\\n",
       "count  3.715280e+05       371528.000000  371528.000000  371528.000000   \n",
       "mean   1.729514e+04         2004.577997     115.549477  125618.688228   \n",
       "std    3.587954e+06           92.866598     192.139578   40112.337051   \n",
       "min    0.000000e+00         1000.000000       0.000000    5000.000000   \n",
       "25%    1.150000e+03         1999.000000      70.000000  125000.000000   \n",
       "50%    2.950000e+03         2003.000000     105.000000  150000.000000   \n",
       "75%    7.200000e+03         2008.000000     150.000000  150000.000000   \n",
       "max    2.147484e+09         9999.000000   20000.000000  150000.000000   \n",
       "\n",
       "       monthOfRegistration    postalCode  \n",
       "count        371528.000000  371528.00000  \n",
       "mean              5.734445   50820.66764  \n",
       "std               3.712412   25799.08247  \n",
       "min               0.000000    1067.00000  \n",
       "25%               3.000000   30459.00000  \n",
       "50%               6.000000   49610.00000  \n",
       "75%               9.000000   71546.00000  \n",
       "max              12.000000   99998.00000  "
      ]
     },
     "metadata": {},
     "output_type": "display_data"
    }
   ],
   "source": [
    "display(data[['price','yearOfRegistration','powerPS','kilometer','monthOfRegistration','postalCode']].describe())"
   ]
  },
  {
   "cell_type": "markdown",
   "metadata": {},
   "source": [
    "Some further observations about the numerical fields:\n",
    "\n",
    "1. Unreasonable 0 values appear in the field 'price', 'yearOfRegistration', 'powerPS', and 'monthOfRegistration'.\n",
    "\n",
    "2. Unreasonable early and late years, such as '1000' and '9999', appear in the field 'yearOfRegistration'.\n",
    "\n",
    "3. Most of the price data fall into range of thousands of dollars, while there are unreasonable high prices, such as 2.1e9.\n",
    "\n",
    "4. There are unreasonable high values, such as '20000', appear in the field 'powerPS'.\n",
    "\n",
    "5. More than half of the used cars advertised are having value 150000 in the field 'kilometer'. This indicated that data in the field kilometer may be inaccurate. It is highly possible that in ebay, the largest possible value that can be filled for a used car's kilometer is 150000.\n",
    "\n",
    "Based on the above observations, records with unreasonable values will be discrded."
   ]
  },
  {
   "cell_type": "markdown",
   "metadata": {},
   "source": [
    "A common sense provides the ranges of values in fields of 'yearOfRegistration' and 'powerPS'. 'yearOfRegistration' should be within the interval of [1950,2016] to make sure the car advertised is a used car, instead of a new car, or an antique car. The number of 'powerPS' should be less than 1500, the known highest powerPS of a car.\n",
    "\n",
    "It's obvious that the price data have many outliers, so the top 0.1% prices are cut off. The remain records have a more reasonable maximum value and should have much less outliers than before."
   ]
  },
  {
   "cell_type": "code",
   "execution_count": 5,
   "metadata": {},
   "outputs": [
    {
     "data": {
      "text/plain": [
       "count    371156.000000\n",
       "mean       5616.158338\n",
       "std        7559.086800\n",
       "min           0.000000\n",
       "25%        1150.000000\n",
       "50%        2950.000000\n",
       "75%        7200.000000\n",
       "max      108500.000000\n",
       "Name: price, dtype: float64"
      ]
     },
     "metadata": {},
     "output_type": "display_data"
    }
   ],
   "source": [
    "display(data[data['price']<data.price.quantile(0.999)].price.describe())"
   ]
  },
  {
   "cell_type": "markdown",
   "metadata": {},
   "source": [
    "### Exploratory Visualization:"
   ]
  },
  {
   "cell_type": "markdown",
   "metadata": {},
   "source": [
    "For records with reasonable values, make scatter plots of 'price' vs 'yearofRegistration', 'powerPS', and 'kilometer' respectively. From the plots below, it can be seen that, there are no obvious linear relations between the numerical features and the price data."
   ]
  },
  {
   "cell_type": "code",
   "execution_count": 6,
   "metadata": {},
   "outputs": [
    {
     "data": {
      "text/plain": [
       "<matplotlib.text.Text at 0x10af6ddd0>"
      ]
     },
     "execution_count": 6,
     "metadata": {},
     "output_type": "execute_result"
    },
    {
     "data": {
      "image/png": "[encoded data removed]",
      "text/plain": [
       "<matplotlib.figure.Figure at 0x10c21b150>"
      ]
     },
     "metadata": {},
     "output_type": "display_data"
    }
   ],
   "source": [
    "data_valid=data[(data.yearOfRegistration<2017) & (data.yearOfRegistration>=1950)]\n",
    "data_valid=data_valid[(data_valid.powerPS>0) & (data_valid.powerPS<=1500)]\n",
    "data_valid=data_valid[data_valid.price<=data.price.quantile(0.999)]\n",
    "fig1=plt.figure()\n",
    "ax=fig1.add_subplot(1,1,1)\n",
    "ax.scatter(data_valid['yearOfRegistration'],data_valid['price'])\n",
    "plt.title('price vs year of registration')\n",
    "plt.xlabel('year of registration')\n",
    "plt.ylabel('price')"
   ]
  },
  {
   "cell_type": "markdown",
   "metadata": {},
   "source": [
    "The price for most cars with powerPS larger than 800 fall below $20000, for cars with powerPS less than 800, their prices have a much larger range."
   ]
  },
  {
   "cell_type": "code",
   "execution_count": 7,
   "metadata": {},
   "outputs": [
    {
     "data": {
      "text/plain": [
       "<matplotlib.text.Text at 0x11577ac90>"
      ]
     },
     "execution_count": 7,
     "metadata": {},
     "output_type": "execute_result"
    },
    {
     "data": {
      "image/png": "[encoded data removed]",
      "text/plain": [
       "<matplotlib.figure.Figure at 0x10c21bd10>"
      ]
     },
     "metadata": {},
     "output_type": "display_data"
    }
   ],
   "source": [
    "fig2=plt.figure()\n",
    "ax=fig2.add_subplot(1,1,1)\n",
    "ax.scatter(data_valid['powerPS'],data_valid['price'])\n",
    "plt.title('price vs powerPS')\n",
    "plt.xlabel('powerPS')\n",
    "plt.ylabel('price')"
   ]
  },
  {
   "cell_type": "markdown",
   "metadata": {},
   "source": [
    "From the plot below, there are only a few values in the field 'kilometer'. This can be futher verified by grouping the 'kilometer' field. This characteristic of the 'kilometer' field suggests that a value in 'kilometer' field is possible to represent a range of the kilometers a car has driven, for example, '90000' means the car has driven more than 90000 kilometers but less than 100000."
   ]
  },
  {
   "cell_type": "code",
   "execution_count": 8,
   "metadata": {},
   "outputs": [
    {
     "data": {
      "text/plain": [
       "<matplotlib.text.Text at 0x11608dc90>"
      ]
     },
     "execution_count": 8,
     "metadata": {},
     "output_type": "execute_result"
    },
    {
     "data": {
      "image/png": "[encoded data removed]",
      "text/plain": [
       "<matplotlib.figure.Figure at 0x1154c21d0>"
      ]
     },
     "metadata": {},
     "output_type": "display_data"
    }
   ],
   "source": [
    "fig3=plt.figure()\n",
    "ax=fig3.add_subplot(1,1,1)\n",
    "ax.scatter(data_valid['kilometer'],data_valid['price'])\n",
    "plt.title('price vs kilometer')\n",
    "plt.xlabel('kilometer')\n",
    "plt.ylabel('price')"
   ]
  },
  {
   "cell_type": "code",
   "execution_count": 9,
   "metadata": {},
   "outputs": [
    {
     "data": {
      "text/plain": [
       "\"Distribution of data in the 'kilometer' field.\""
      ]
     },
     "metadata": {},
     "output_type": "display_data"
    },
    {
     "data": {
      "text/plain": [
       "kilometer\n",
       "5000        7069\n",
       "10000       1949\n",
       "20000       5676\n",
       "30000       6041\n",
       "40000       6376\n",
       "50000       7615\n",
       "60000       8669\n",
       "70000       9773\n",
       "80000      11053\n",
       "90000      12523\n",
       "100000     15920\n",
       "125000     38067\n",
       "150000    240797\n",
       "dtype: int64"
      ]
     },
     "metadata": {},
     "output_type": "display_data"
    }
   ],
   "source": [
    "display(\"Distribution of data in the 'kilometer' field.\")\n",
    "display(data.groupby('kilometer').size())"
   ]
  },
  {
   "cell_type": "markdown",
   "metadata": {},
   "source": [
    "Then plot histograms of the fields 'price', 'yearOfRegistration', 'powerPS', and 'kilometer' to check their distributions. As can be seen, data in 'price', 'yearOfRegistration', and 'kilometer' fields are skewed distributed."
   ]
  },
  {
   "cell_type": "code",
   "execution_count": 10,
   "metadata": {},
   "outputs": [
    {
     "data": {
      "text/plain": [
       "<matplotlib.text.Text at 0x11602e390>"
      ]
     },
     "execution_count": 10,
     "metadata": {},
     "output_type": "execute_result"
    },
    {
     "data": {
      "image/png": "[encoded data removed]",
      "text/plain": [
       "<matplotlib.figure.Figure at 0x116911310>"
      ]
     },
     "metadata": {},
     "output_type": "display_data"
    }
   ],
   "source": [
    "plt.hist(data_valid.price)\n",
    "plt.title(\"histogram of price\")\n",
    "plt.xlabel(\"price\")"
   ]
  },
  {
   "cell_type": "code",
   "execution_count": 11,
   "metadata": {},
   "outputs": [
    {
     "data": {
      "text/plain": [
       "<matplotlib.text.Text at 0x115762e90>"
      ]
     },
     "execution_count": 11,
     "metadata": {},
     "output_type": "execute_result"
    },
    {
     "data": {
      "image/png": "[encoded data removed]",
      "text/plain": [
       "<matplotlib.figure.Figure at 0x115529b10>"
      ]
     },
     "metadata": {},
     "output_type": "display_data"
    }
   ],
   "source": [
    "plt.hist(data_valid.yearOfRegistration)\n",
    "plt.title(\"histogram of year of registration\")\n",
    "plt.xlabel(\"registration year\")"
   ]
  },
  {
   "cell_type": "code",
   "execution_count": 12,
   "metadata": {},
   "outputs": [
    {
     "data": {
      "text/plain": [
       "<matplotlib.text.Text at 0x1152f5d50>"
      ]
     },
     "execution_count": 12,
     "metadata": {},
     "output_type": "execute_result"
    },
    {
     "data": {
      "image/png": "[encoded data removed]",
      "text/plain": [
       "<matplotlib.figure.Figure at 0x1151ac5d0>"
      ]
     },
     "metadata": {},
     "output_type": "display_data"
    }
   ],
   "source": [
    "plt.hist(data_valid.powerPS)\n",
    "plt.title(\"histogram of powerPS\")\n",
    "plt.xlabel(\"powerPS\")"
   ]
  },
  {
   "cell_type": "code",
   "execution_count": 13,
   "metadata": {},
   "outputs": [
    {
     "data": {
      "text/plain": [
       "<matplotlib.text.Text at 0x1168b2d50>"
      ]
     },
     "execution_count": 13,
     "metadata": {},
     "output_type": "execute_result"
    },
    {
     "data": {
      "image/png": "[encoded data removed]",
      "text/plain": [
       "<matplotlib.figure.Figure at 0x1158f4d10>"
      ]
     },
     "metadata": {},
     "output_type": "display_data"
    }
   ],
   "source": [
    "plt.hist(data_valid.kilometer)\n",
    "plt.title(\"histogram of kilometer\")\n",
    "plt.xlabel(\"kilometer\")"
   ]
  },
  {
   "cell_type": "markdown",
   "metadata": {},
   "source": [
    "### Algorithms and Techniques:"
   ]
  },
  {
   "cell_type": "markdown",
   "metadata": {},
   "source": [
    "To this problem, a multilayer neural network model will trained based on the processed data from the dataset.\n",
    "\n",
    "A multilayer neural network properly deals with the following characteristics:\n",
    "\n",
    "1. Large size of dataset. A well chosen multilayer neural network is complicated enough to extract desired information from a large size of data.\n",
    "\n",
    "2. Nonlinear relation between input features and the target variable. With activation functions added within each layer, a multilayer neural network is able to simulate the nonlinear relation between the inputs and outputs.\n",
    "\n",
    "The original dataset will be processes as following to generate the input features:\n",
    "\n",
    "1. 'nrOfPictures' field is dropped because all values in this field are 0.\n",
    "\n",
    "2. Records with minority value in 'seller' or 'offerType' fields will be discarded. Then the two fields are dropped.\n",
    "\n",
    "3. Records with unreasonable value in 'price', 'powerPS', 'yearOfRegistration', or 'monthOfRegistration' fields are discarded.\n",
    "\n",
    "4. Records with empty value in 'gearbox', 'vehicleType', 'fuelType' or 'notRepairedDamage' fields are discarded.\n",
    "\n",
    "5. Records with empty value in 'model' field are repaired by extracting information from 'name' field. Then records not fixed are discarded and 'name' field is dropped.\n",
    "\n",
    "6. 'dateCrawled', 'dateCreated' and 'lastSeen' fields are transformed into numerical forms, by first converting string values in the fields into datetime data, then the datetime data are transformed into numerical data by calculating the days between the date in the data and a fixed level date.\n",
    "\n",
    "7. 'price' field will be extracted as the target variable data.\n",
    "\n",
    "8. 'abtest', 'vehicleType', 'gearbox', 'model', 'fuelType', 'brand', 'notRepairedDamage', and 'monthOfRegistration' fields will be treated as text fields. One-hot encoding will be applied to generate input features from the values in those fields.\n",
    "\n",
    "9. Values in 'postalCode' field will be cut off the last three digits, then the remained one or two digits will be treated as text, to generate input features using one-hot encoding.\n",
    "\n",
    "10. 'powerPS', 'yearOfRegistration' and 'kilometer' fields will be treated as numerical fields, and normalized by a min-max scaler.\n",
    "\n",
    "Once the inputs features and price data are ready, they will be split into train set, validation set and test set in a ratio of 6:2:2 by randomly picking from the processed dataset.\n",
    "\n",
    "Before training a multilayer model, a simple mean value prediction model will be constructed as the benchmark. Then a neural network without inner layer and activation functions will be trained to see how a linear model performs on this problem. A single layer neural network with activation function will be tested to see if a nonlinear model improves the performance. Then a final model will be trained and its hyper-parameters will be tuned.\n",
    "\n",
    "There are several hyper-parameters need to be tuned in the model, number of layers, number of nodes in each layer, type of activation functions, and dropout rate. All the hyper-parameters will be tuned by grid searching in a specific set."
   ]
  },
  {
   "cell_type": "markdown",
   "metadata": {},
   "source": [
    "### Benchmark: "
   ]
  },
  {
   "cell_type": "markdown",
   "metadata": {},
   "source": [
    "First a naive predictor will be created as the benchmark. The predictor simply uses the mean value of all prices in train set as its prediction for an unseen car, i.e.:\n",
    "\n",
    "\\begin{equation*}\n",
    "P_n=\\frac{\\sum_{i=1}^{N_0} P_{t,i}}{N_0}\n",
    "\\end{equation*}\n",
    "\n",
    "where $P_n$ is the naive prediction of the price, $N_0$ is the number of samples in train set, $P_{t,i}$ is the $i$-th price data in the train set."
   ]
  },
  {
   "cell_type": "markdown",
   "metadata": {},
   "source": [
    "# III. Methodology "
   ]
  },
  {
   "cell_type": "markdown",
   "metadata": {},
   "source": [
    "### Data Pre-Processing: "
   ]
  },
  {
   "cell_type": "markdown",
   "metadata": {},
   "source": [
    "As mentioned before, the original dataset will be processes as following:\n",
    "\n",
    "1. 'nrOfPictures' field is dropped because all values in this field are 0.\n",
    "\n",
    "2. Records with minority value in 'seller' or 'offerType' fields will be discarded. Then the two fields are dropped.\n",
    "\n",
    "3. Records with empty value in 'gearbox', 'vehicleType', 'fuelType' or 'notRepairedDamage' fields are discarded.\n",
    "\n",
    "4. Records with empty value in 'model' field are repaired by extracting information from 'name' field. Then records not fixed are discarded and 'name' field is dropped. Strings in 'brand' and 'model' fields will be turned into upper case to eliminate duplications with different cases.\n",
    "\n",
    "5. Records with unreasonable value in 'price', 'powerPS', 'yearOfRegistration', or 'monthOfRegistration' fields are discarded. Then records with top 0.1% prices are discarded.\n",
    "\n",
    "6. 'dateCrawled', 'dateCreated' and 'lastSeen' fields are transformed into numerical forms, by first converting string values in the fields into datetime data, then the datetime data are transformed into numerical data by calculating the days between the date in the data and a fixed level date.\n",
    "\n",
    "7. Values in 'postalCode' field will be cut off the last three digits, then the remained one or two digits will be treated as text.\n",
    "\n",
    "8. 'price' field will be extracted as the target variable data.\n",
    "\n",
    "9. 'abtest', 'vehicleType', 'gearbox', 'model', 'fuelType', 'brand', 'notRepairedDamage', 'monthOfRegistration' and processed 'postalCode' fields will be treated as text fields. One-hot encoding will be applied to generate input features from the values in those fields.\n",
    "\n",
    "10. 'powerPS', 'yearOfRegistration' and 'kilometer' fields will be treated as numerical fields, and normalized by a min-max scaler."
   ]
  },
  {
   "cell_type": "code",
   "execution_count": 15,
   "metadata": {},
   "outputs": [
    {
     "data": {
      "text/html": [
       "<div>\n",
       "<style>\n",
       "    .dataframe thead tr:only-child th {\n",
       "        text-align: right;\n",
       "    }\n",
       "\n",
       "    .dataframe thead th {\n",
       "        text-align: left;\n",
       "    }\n",
       "\n",
       "    .dataframe tbody tr th {\n",
       "        vertical-align: top;\n",
       "    }\n",
       "</style>\n",
       "<table border=\"1\" class=\"dataframe\">\n",
       "  <thead>\n",
       "    <tr style=\"text-align: right;\">\n",
       "      <th></th>\n",
       "      <th>dateCrawled</th>\n",
       "      <th>price</th>\n",
       "      <th>abtest</th>\n",
       "      <th>vehicleType</th>\n",
       "      <th>yearOfRegistration</th>\n",
       "      <th>gearbox</th>\n",
       "      <th>powerPS</th>\n",
       "      <th>model</th>\n",
       "      <th>kilometer</th>\n",
       "      <th>monthOfRegistration</th>\n",
       "      <th>fuelType</th>\n",
       "      <th>brand</th>\n",
       "      <th>notRepairedDamage</th>\n",
       "      <th>dateCreated</th>\n",
       "      <th>postalCode</th>\n",
       "      <th>lastSeen</th>\n",
       "    </tr>\n",
       "  </thead>\n",
       "  <tbody>\n",
       "    <tr>\n",
       "      <th>1</th>\n",
       "      <td>19.869711</td>\n",
       "      <td>18300</td>\n",
       "      <td>test</td>\n",
       "      <td>coupe</td>\n",
       "      <td>2011</td>\n",
       "      <td>manuell</td>\n",
       "      <td>190</td>\n",
       "      <td>A5</td>\n",
       "      <td>125000</td>\n",
       "      <td>5</td>\n",
       "      <td>diesel</td>\n",
       "      <td>AUDI</td>\n",
       "      <td>ja</td>\n",
       "      <td>231.0</td>\n",
       "      <td>66</td>\n",
       "      <td>33.480255</td>\n",
       "    </tr>\n",
       "    <tr>\n",
       "      <th>3</th>\n",
       "      <td>13.116458</td>\n",
       "      <td>1500</td>\n",
       "      <td>test</td>\n",
       "      <td>kleinwagen</td>\n",
       "      <td>2001</td>\n",
       "      <td>manuell</td>\n",
       "      <td>75</td>\n",
       "      <td>GOLF</td>\n",
       "      <td>150000</td>\n",
       "      <td>6</td>\n",
       "      <td>benzin</td>\n",
       "      <td>VOLKSWAGEN</td>\n",
       "      <td>nein</td>\n",
       "      <td>224.0</td>\n",
       "      <td>91</td>\n",
       "      <td>13.142373</td>\n",
       "    </tr>\n",
       "    <tr>\n",
       "      <th>4</th>\n",
       "      <td>27.138171</td>\n",
       "      <td>3600</td>\n",
       "      <td>test</td>\n",
       "      <td>kleinwagen</td>\n",
       "      <td>2008</td>\n",
       "      <td>manuell</td>\n",
       "      <td>69</td>\n",
       "      <td>FABIA</td>\n",
       "      <td>90000</td>\n",
       "      <td>7</td>\n",
       "      <td>diesel</td>\n",
       "      <td>SKODA</td>\n",
       "      <td>nein</td>\n",
       "      <td>238.0</td>\n",
       "      <td>60</td>\n",
       "      <td>32.834780</td>\n",
       "    </tr>\n",
       "  </tbody>\n",
       "</table>\n",
       "</div>"
      ],
      "text/plain": [
       "   dateCrawled  price abtest vehicleType  yearOfRegistration  gearbox  \\\n",
       "1    19.869711  18300   test       coupe                2011  manuell   \n",
       "3    13.116458   1500   test  kleinwagen                2001  manuell   \n",
       "4    27.138171   3600   test  kleinwagen                2008  manuell   \n",
       "\n",
       "   powerPS  model  kilometer monthOfRegistration fuelType       brand  \\\n",
       "1      190     A5     125000                   5   diesel        AUDI   \n",
       "3       75   GOLF     150000                   6   benzin  VOLKSWAGEN   \n",
       "4       69  FABIA      90000                   7   diesel       SKODA   \n",
       "\n",
       "  notRepairedDamage  dateCreated postalCode   lastSeen  \n",
       "1                ja        231.0         66  33.480255  \n",
       "3              nein        224.0         91  13.142373  \n",
       "4              nein        238.0         60  32.834780  "
      ]
     },
     "metadata": {},
     "output_type": "display_data"
    },
    {
     "data": {
      "text/html": [
       "<div>\n",
       "<style>\n",
       "    .dataframe thead tr:only-child th {\n",
       "        text-align: right;\n",
       "    }\n",
       "\n",
       "    .dataframe thead th {\n",
       "        text-align: left;\n",
       "    }\n",
       "\n",
       "    .dataframe tbody tr th {\n",
       "        vertical-align: top;\n",
       "    }\n",
       "</style>\n",
       "<table border=\"1\" class=\"dataframe\">\n",
       "  <thead>\n",
       "    <tr style=\"text-align: right;\">\n",
       "      <th></th>\n",
       "      <th>dateCrawled</th>\n",
       "      <th>price</th>\n",
       "      <th>abtest</th>\n",
       "      <th>vehicleType</th>\n",
       "      <th>yearOfRegistration</th>\n",
       "      <th>gearbox</th>\n",
       "      <th>powerPS</th>\n",
       "      <th>model</th>\n",
       "      <th>kilometer</th>\n",
       "      <th>monthOfRegistration</th>\n",
       "      <th>fuelType</th>\n",
       "      <th>brand</th>\n",
       "      <th>notRepairedDamage</th>\n",
       "      <th>dateCreated</th>\n",
       "      <th>postalCode</th>\n",
       "      <th>lastSeen</th>\n",
       "    </tr>\n",
       "  </thead>\n",
       "  <tbody>\n",
       "    <tr>\n",
       "      <th>371524</th>\n",
       "      <td>1.243044</td>\n",
       "      <td>1199</td>\n",
       "      <td>test</td>\n",
       "      <td>cabrio</td>\n",
       "      <td>2000</td>\n",
       "      <td>automatik</td>\n",
       "      <td>101</td>\n",
       "      <td>FORTWO</td>\n",
       "      <td>125000</td>\n",
       "      <td>3</td>\n",
       "      <td>benzin</td>\n",
       "      <td>SMART</td>\n",
       "      <td>nein</td>\n",
       "      <td>212.0</td>\n",
       "      <td>26</td>\n",
       "      <td>7.168009</td>\n",
       "    </tr>\n",
       "    <tr>\n",
       "      <th>371525</th>\n",
       "      <td>15.201968</td>\n",
       "      <td>9200</td>\n",
       "      <td>test</td>\n",
       "      <td>bus</td>\n",
       "      <td>1996</td>\n",
       "      <td>manuell</td>\n",
       "      <td>102</td>\n",
       "      <td>TRANSPORTER</td>\n",
       "      <td>150000</td>\n",
       "      <td>3</td>\n",
       "      <td>diesel</td>\n",
       "      <td>VOLKSWAGEN</td>\n",
       "      <td>nein</td>\n",
       "      <td>226.0</td>\n",
       "      <td>87</td>\n",
       "      <td>33.708449</td>\n",
       "    </tr>\n",
       "    <tr>\n",
       "      <th>371527</th>\n",
       "      <td>3.231215</td>\n",
       "      <td>28990</td>\n",
       "      <td>control</td>\n",
       "      <td>limousine</td>\n",
       "      <td>2013</td>\n",
       "      <td>manuell</td>\n",
       "      <td>320</td>\n",
       "      <td>M_REIHE</td>\n",
       "      <td>50000</td>\n",
       "      <td>8</td>\n",
       "      <td>benzin</td>\n",
       "      <td>BMW</td>\n",
       "      <td>nein</td>\n",
       "      <td>214.0</td>\n",
       "      <td>73</td>\n",
       "      <td>17.542986</td>\n",
       "    </tr>\n",
       "  </tbody>\n",
       "</table>\n",
       "</div>"
      ],
      "text/plain": [
       "        dateCrawled  price   abtest vehicleType  yearOfRegistration  \\\n",
       "371524     1.243044   1199     test      cabrio                2000   \n",
       "371525    15.201968   9200     test         bus                1996   \n",
       "371527     3.231215  28990  control   limousine                2013   \n",
       "\n",
       "          gearbox  powerPS        model  kilometer monthOfRegistration  \\\n",
       "371524  automatik      101       FORTWO     125000                   3   \n",
       "371525    manuell      102  TRANSPORTER     150000                   3   \n",
       "371527    manuell      320      M_REIHE      50000                   8   \n",
       "\n",
       "       fuelType       brand notRepairedDamage  dateCreated postalCode  \\\n",
       "371524   benzin       SMART              nein        212.0         26   \n",
       "371525   diesel  VOLKSWAGEN              nein        226.0         87   \n",
       "371527   benzin         BMW              nein        214.0         73   \n",
       "\n",
       "         lastSeen  \n",
       "371524   7.168009  \n",
       "371525  33.708449  \n",
       "371527  17.542986  "
      ]
     },
     "metadata": {},
     "output_type": "display_data"
    },
    {
     "data": {
      "text/plain": [
       "'Now there are 244588 records with values in all fields avaiable in the dataset.'"
      ]
     },
     "metadata": {},
     "output_type": "display_data"
    }
   ],
   "source": [
    "data = pd.read_csv(\"autos.csv\",keep_default_na=False)\n",
    "input_data=data.drop('nrOfPictures',1)\n",
    "input_data=input_data[input_data['seller']=='privat']\n",
    "input_data=input_data[input_data['offerType']=='Angebot']\n",
    "input_data=input_data.drop(['seller','offerType'],1)\n",
    "\n",
    "input_data=input_data[input_data['gearbox']!='']\n",
    "input_data=input_data[input_data['vehicleType']!='']\n",
    "input_data=input_data[input_data['fuelType']!='']\n",
    "input_data=input_data[input_data['notRepairedDamage']!='']\n",
    "\n",
    "model_set=set(input_data.model.str.upper())\n",
    "model_set.remove('')\n",
    "input_data.name=input_data.name.str.upper()\n",
    "input_data.name=input_data.name.str.split('_')\n",
    "\n",
    "for index,row in input_data.iterrows():\n",
    "    if input_data.model[index]=='':\n",
    "        for name_pcs in input_data.name[index]:\n",
    "            if name_pcs in model_set:\n",
    "                input_data.loc[index,'model']=name_pcs\n",
    "                break\n",
    "input_data=input_data[input_data['model']!='']\n",
    "input_data.model=input_data.model.str.upper()\n",
    "input_data.brand=input_data.brand.str.upper()\n",
    "input_data=input_data.drop('name',1)\n",
    "\n",
    "input_data=input_data[input_data['price']!=0]\n",
    "input_data=input_data[(input_data.powerPS>0) & (input_data.powerPS<=1500)]\n",
    "input_data=input_data[(input_data.yearOfRegistration>=1950) & (input_data.yearOfRegistration<2017)]\n",
    "input_data=input_data[input_data['monthOfRegistration']!=0]\n",
    "input_data=input_data[input_data.price<input_data.price.quantile(0.999)]\n",
    "\n",
    "input_data.dateCrawled=pd.to_datetime(input_data.dateCrawled)\n",
    "level_dateCrawled=input_data['dateCrawled'].min()-np.timedelta64(1,'D')\n",
    "input_data.dateCrawled=(input_data['dateCrawled'] - level_dateCrawled)/np.timedelta64(1,'D')\n",
    "\n",
    "input_data.dateCreated=pd.to_datetime(input_data.dateCreated)\n",
    "level_dateCreated=input_data['dateCreated'].min()-np.timedelta64(1,'D')\n",
    "input_data.dateCreated=(input_data['dateCreated'] - level_dateCreated)/np.timedelta64(1,'D')\n",
    "\n",
    "input_data.lastSeen=pd.to_datetime(input_data.lastSeen)\n",
    "level_lastSeen=input_data['lastSeen'].min()-np.timedelta64(1,'D')\n",
    "input_data.lastSeen=(input_data['lastSeen'] - level_lastSeen)/np.timedelta64(1,'D')\n",
    "\n",
    "input_data.postalCode=input_data.postalCode.apply(lambda x: str(int(x/1000)))\n",
    "input_data.monthOfRegistration=input_data.monthOfRegistration.apply(lambda x: str(x))\n",
    "\n",
    "display(input_data.head(3))\n",
    "display(input_data.tail(3))\n",
    "display(\"Now there are {} records with values in all fields avaiable in the dataset.\".format(len(input_data)))"
   ]
  },
  {
   "cell_type": "code",
   "execution_count": 16,
   "metadata": {
    "collapsed": true
   },
   "outputs": [],
   "source": [
    "price_data=input_data['price']\n",
    "features_data=input_data.drop('price',1)"
   ]
  },
  {
   "cell_type": "code",
   "execution_count": 17,
   "metadata": {
    "collapsed": true
   },
   "outputs": [],
   "source": [
    "from sklearn.preprocessing import MinMaxScaler\n",
    "scaler = MinMaxScaler()\n",
    "numerical = ['yearOfRegistration', 'powerPS', 'kilometer','dateCrawled','dateCreated','lastSeen']\n",
    "features_data[numerical] = scaler.fit_transform(input_data[numerical])"
   ]
  },
  {
   "cell_type": "markdown",
   "metadata": {},
   "source": [
    "For all the non-numerical fields, use one-hot encoding to quantify them. After encoding, check the number of features, which will be the input dimension of the multilayer neural network model."
   ]
  },
  {
   "cell_type": "code",
   "execution_count": 18,
   "metadata": {},
   "outputs": [
    {
     "data": {
      "text/plain": [
       "'There are 424 features after one-hot encoding.'"
      ]
     },
     "metadata": {},
     "output_type": "display_data"
    },
    {
     "data": {
      "text/plain": [
       "['dateCrawled',\n",
       " 'yearOfRegistration',\n",
       " 'powerPS',\n",
       " 'kilometer',\n",
       " 'dateCreated',\n",
       " 'lastSeen',\n",
       " 'abtest_control',\n",
       " 'abtest_test',\n",
       " 'vehicleType_andere',\n",
       " 'vehicleType_bus',\n",
       " 'vehicleType_cabrio',\n",
       " 'vehicleType_coupe',\n",
       " 'vehicleType_kleinwagen',\n",
       " 'vehicleType_kombi',\n",
       " 'vehicleType_limousine',\n",
       " 'vehicleType_suv',\n",
       " 'gearbox_automatik',\n",
       " 'gearbox_manuell',\n",
       " 'model_100',\n",
       " 'model_145',\n",
       " 'model_147',\n",
       " 'model_156',\n",
       " 'model_159',\n",
       " 'model_1ER',\n",
       " 'model_1_REIHE',\n",
       " 'model_200',\n",
       " 'model_2_REIHE',\n",
       " 'model_300C',\n",
       " 'model_3ER',\n",
       " 'model_3_REIHE',\n",
       " 'model_4_REIHE',\n",
       " 'model_500',\n",
       " 'model_5ER',\n",
       " 'model_5_REIHE',\n",
       " 'model_601',\n",
       " 'model_6ER',\n",
       " 'model_6_REIHE',\n",
       " 'model_7ER',\n",
       " 'model_80',\n",
       " 'model_850',\n",
       " 'model_90',\n",
       " 'model_900',\n",
       " 'model_9000',\n",
       " 'model_911',\n",
       " 'model_A1',\n",
       " 'model_A2',\n",
       " 'model_A3',\n",
       " 'model_A4',\n",
       " 'model_A5',\n",
       " 'model_A6',\n",
       " 'model_A8',\n",
       " 'model_ACCORD',\n",
       " 'model_AGILA',\n",
       " 'model_ALHAMBRA',\n",
       " 'model_ALMERA',\n",
       " 'model_ALTEA',\n",
       " 'model_AMAROK',\n",
       " 'model_ANDERE',\n",
       " 'model_ANTARA',\n",
       " 'model_AROSA',\n",
       " 'model_ASTRA',\n",
       " 'model_AURIS',\n",
       " 'model_AVENSIS',\n",
       " 'model_AVEO',\n",
       " 'model_AYGO',\n",
       " 'model_A_KLASSE',\n",
       " 'model_BEETLE',\n",
       " 'model_BERLINGO',\n",
       " 'model_BORA',\n",
       " 'model_BOXSTER',\n",
       " 'model_BRAVO',\n",
       " 'model_B_KLASSE',\n",
       " 'model_B_MAX',\n",
       " 'model_C1',\n",
       " 'model_C2',\n",
       " 'model_C3',\n",
       " 'model_C4',\n",
       " 'model_C5',\n",
       " 'model_CADDY',\n",
       " 'model_CALIBRA',\n",
       " 'model_CAPTIVA',\n",
       " 'model_CARISMA',\n",
       " 'model_CARNIVAL',\n",
       " 'model_CAYENNE',\n",
       " 'model_CC',\n",
       " 'model_CEED',\n",
       " 'model_CHARADE',\n",
       " 'model_CHEROKEE',\n",
       " 'model_CITIGO',\n",
       " 'model_CIVIC',\n",
       " 'model_CL',\n",
       " 'model_CLIO',\n",
       " 'model_CLK',\n",
       " 'model_CLUBMAN',\n",
       " 'model_COLT',\n",
       " 'model_COMBO',\n",
       " 'model_COOPER',\n",
       " 'model_CORDOBA',\n",
       " 'model_COROLLA',\n",
       " 'model_CORSA',\n",
       " 'model_CROMA',\n",
       " 'model_CROSSFIRE',\n",
       " 'model_CR_REIHE',\n",
       " 'model_CUORE',\n",
       " 'model_CX_REIHE',\n",
       " 'model_C_KLASSE',\n",
       " 'model_C_MAX',\n",
       " 'model_C_REIHE',\n",
       " 'model_DEFENDER',\n",
       " 'model_DELTA',\n",
       " 'model_DISCOVERY',\n",
       " 'model_DISCOVERY_SPORT',\n",
       " 'model_DOBLO',\n",
       " 'model_DUCATO',\n",
       " 'model_DUSTER',\n",
       " 'model_ELEFANTINO',\n",
       " 'model_EOS',\n",
       " 'model_ESCORT',\n",
       " 'model_ESPACE',\n",
       " 'model_EXEO',\n",
       " 'model_E_KLASSE',\n",
       " 'model_FABIA',\n",
       " 'model_FIESTA',\n",
       " 'model_FOCUS',\n",
       " 'model_FORESTER',\n",
       " 'model_FORFOUR',\n",
       " 'model_FORTWO',\n",
       " 'model_FOX',\n",
       " 'model_FREELANDER',\n",
       " 'model_FUSION',\n",
       " 'model_GALANT',\n",
       " 'model_GALAXY',\n",
       " 'model_GETZ',\n",
       " 'model_GL',\n",
       " 'model_GLK',\n",
       " 'model_GOLF',\n",
       " 'model_GRAND',\n",
       " 'model_G_KLASSE',\n",
       " 'model_I3',\n",
       " 'model_IBIZA',\n",
       " 'model_IMPREZA',\n",
       " 'model_INSIGNIA',\n",
       " 'model_I_REIHE',\n",
       " 'model_JAZZ',\n",
       " 'model_JETTA',\n",
       " 'model_JIMNY',\n",
       " 'model_JUKE',\n",
       " 'model_JUSTY',\n",
       " 'model_KA',\n",
       " 'model_KADETT',\n",
       " 'model_KAEFER',\n",
       " 'model_KALINA',\n",
       " 'model_KALOS',\n",
       " 'model_KANGOO',\n",
       " 'model_KAPPA',\n",
       " 'model_KUGA',\n",
       " 'model_LAGUNA',\n",
       " 'model_LANCER',\n",
       " 'model_LANOS',\n",
       " 'model_LEGACY',\n",
       " 'model_LEON',\n",
       " 'model_LODGY',\n",
       " 'model_LOGAN',\n",
       " 'model_LUPO',\n",
       " 'model_LYBRA',\n",
       " 'model_MATERIA',\n",
       " 'model_MATIZ',\n",
       " 'model_MEGANE',\n",
       " 'model_MERIVA',\n",
       " 'model_MICRA',\n",
       " 'model_MII',\n",
       " 'model_MODUS',\n",
       " 'model_MONDEO',\n",
       " 'model_MOVE',\n",
       " 'model_MUSA',\n",
       " 'model_MUSTANG',\n",
       " 'model_MX_REIHE',\n",
       " 'model_M_KLASSE',\n",
       " 'model_M_REIHE',\n",
       " 'model_NAVARA',\n",
       " 'model_NIVA',\n",
       " 'model_NOTE',\n",
       " 'model_NUBIRA',\n",
       " 'model_OCTAVIA',\n",
       " 'model_OMEGA',\n",
       " 'model_ONE',\n",
       " 'model_OUTLANDER',\n",
       " 'model_PAJERO',\n",
       " 'model_PANDA',\n",
       " 'model_PASSAT',\n",
       " 'model_PHAETON',\n",
       " 'model_PICANTO',\n",
       " 'model_POLO',\n",
       " 'model_PRIMERA',\n",
       " 'model_PTCRUISER',\n",
       " 'model_PUNTO',\n",
       " 'model_Q3',\n",
       " 'model_Q5',\n",
       " 'model_Q7',\n",
       " 'model_QASHQAI',\n",
       " 'model_R19',\n",
       " 'model_RANGEROVER',\n",
       " 'model_RANGE_ROVER',\n",
       " 'model_RANGE_ROVER_EVOQUE',\n",
       " 'model_RANGE_ROVER_SPORT',\n",
       " 'model_RAV',\n",
       " 'model_RIO',\n",
       " 'model_ROADSTER',\n",
       " 'model_ROOMSTER',\n",
       " 'model_RX_REIHE',\n",
       " 'model_S60',\n",
       " 'model_SAMARA',\n",
       " 'model_SANDERO',\n",
       " 'model_SANTA',\n",
       " 'model_SCENIC',\n",
       " 'model_SCIROCCO',\n",
       " 'model_SEICENTO',\n",
       " 'model_SERIE_2',\n",
       " 'model_SERIE_3',\n",
       " 'model_SHARAN',\n",
       " 'model_SIGNUM',\n",
       " 'model_SIRION',\n",
       " 'model_SL',\n",
       " 'model_SLK',\n",
       " 'model_SORENTO',\n",
       " 'model_SPARK',\n",
       " 'model_SPIDER',\n",
       " 'model_SPORTAGE',\n",
       " 'model_SPRINTER',\n",
       " 'model_STILO',\n",
       " 'model_SUPERB',\n",
       " 'model_SWIFT',\n",
       " 'model_S_KLASSE',\n",
       " 'model_S_MAX',\n",
       " 'model_S_TYPE',\n",
       " 'model_TERIOS',\n",
       " 'model_TIGRA',\n",
       " 'model_TIGUAN',\n",
       " 'model_TOLEDO',\n",
       " 'model_TOUAREG',\n",
       " 'model_TOURAN',\n",
       " 'model_TRANSIT',\n",
       " 'model_TRANSPORTER',\n",
       " 'model_TT',\n",
       " 'model_TUCSON',\n",
       " 'model_TWINGO',\n",
       " 'model_UP',\n",
       " 'model_V40',\n",
       " 'model_V50',\n",
       " 'model_V60',\n",
       " 'model_V70',\n",
       " 'model_VECTRA',\n",
       " 'model_VERSO',\n",
       " 'model_VIANO',\n",
       " 'model_VITO',\n",
       " 'model_VIVARO',\n",
       " 'model_VOYAGER',\n",
       " 'model_V_KLASSE',\n",
       " 'model_WRANGLER',\n",
       " 'model_XC_REIHE',\n",
       " 'model_X_REIHE',\n",
       " 'model_X_TRAIL',\n",
       " 'model_X_TYPE',\n",
       " 'model_YARIS',\n",
       " 'model_YETI',\n",
       " 'model_YPSILON',\n",
       " 'model_ZAFIRA',\n",
       " 'model_Z_REIHE',\n",
       " 'monthOfRegistration_1',\n",
       " 'monthOfRegistration_10',\n",
       " 'monthOfRegistration_11',\n",
       " 'monthOfRegistration_12',\n",
       " 'monthOfRegistration_2',\n",
       " 'monthOfRegistration_3',\n",
       " 'monthOfRegistration_4',\n",
       " 'monthOfRegistration_5',\n",
       " 'monthOfRegistration_6',\n",
       " 'monthOfRegistration_7',\n",
       " 'monthOfRegistration_8',\n",
       " 'monthOfRegistration_9',\n",
       " 'fuelType_andere',\n",
       " 'fuelType_benzin',\n",
       " 'fuelType_cng',\n",
       " 'fuelType_diesel',\n",
       " 'fuelType_elektro',\n",
       " 'fuelType_hybrid',\n",
       " 'fuelType_lpg',\n",
       " 'brand_ALFA_ROMEO',\n",
       " 'brand_AUDI',\n",
       " 'brand_BMW',\n",
       " 'brand_CHEVROLET',\n",
       " 'brand_CHRYSLER',\n",
       " 'brand_CITROEN',\n",
       " 'brand_DACIA',\n",
       " 'brand_DAEWOO',\n",
       " 'brand_DAIHATSU',\n",
       " 'brand_FIAT',\n",
       " 'brand_FORD',\n",
       " 'brand_HONDA',\n",
       " 'brand_HYUNDAI',\n",
       " 'brand_JAGUAR',\n",
       " 'brand_JEEP',\n",
       " 'brand_KIA',\n",
       " 'brand_LADA',\n",
       " 'brand_LANCIA',\n",
       " 'brand_LAND_ROVER',\n",
       " 'brand_MAZDA',\n",
       " 'brand_MERCEDES_BENZ',\n",
       " 'brand_MINI',\n",
       " 'brand_MITSUBISHI',\n",
       " 'brand_NISSAN',\n",
       " 'brand_OPEL',\n",
       " 'brand_PEUGEOT',\n",
       " 'brand_PORSCHE',\n",
       " 'brand_RENAULT',\n",
       " 'brand_ROVER',\n",
       " 'brand_SAAB',\n",
       " 'brand_SEAT',\n",
       " 'brand_SKODA',\n",
       " 'brand_SMART',\n",
       " 'brand_SONSTIGE_AUTOS',\n",
       " 'brand_SUBARU',\n",
       " 'brand_SUZUKI',\n",
       " 'brand_TOYOTA',\n",
       " 'brand_TRABANT',\n",
       " 'brand_VOLKSWAGEN',\n",
       " 'brand_VOLVO',\n",
       " 'notRepairedDamage_ja',\n",
       " 'notRepairedDamage_nein',\n",
       " 'postalCode_1',\n",
       " 'postalCode_10',\n",
       " 'postalCode_12',\n",
       " 'postalCode_13',\n",
       " 'postalCode_14',\n",
       " 'postalCode_15',\n",
       " 'postalCode_16',\n",
       " 'postalCode_17',\n",
       " 'postalCode_18',\n",
       " 'postalCode_19',\n",
       " 'postalCode_2',\n",
       " 'postalCode_20',\n",
       " 'postalCode_21',\n",
       " 'postalCode_22',\n",
       " 'postalCode_23',\n",
       " 'postalCode_24',\n",
       " 'postalCode_25',\n",
       " 'postalCode_26',\n",
       " 'postalCode_27',\n",
       " 'postalCode_28',\n",
       " 'postalCode_29',\n",
       " 'postalCode_3',\n",
       " 'postalCode_30',\n",
       " 'postalCode_31',\n",
       " 'postalCode_32',\n",
       " 'postalCode_33',\n",
       " 'postalCode_34',\n",
       " 'postalCode_35',\n",
       " 'postalCode_36',\n",
       " 'postalCode_37',\n",
       " 'postalCode_38',\n",
       " 'postalCode_39',\n",
       " 'postalCode_4',\n",
       " 'postalCode_40',\n",
       " 'postalCode_41',\n",
       " 'postalCode_42',\n",
       " 'postalCode_44',\n",
       " 'postalCode_45',\n",
       " 'postalCode_46',\n",
       " 'postalCode_47',\n",
       " 'postalCode_48',\n",
       " 'postalCode_49',\n",
       " 'postalCode_50',\n",
       " 'postalCode_51',\n",
       " 'postalCode_52',\n",
       " 'postalCode_53',\n",
       " 'postalCode_54',\n",
       " 'postalCode_55',\n",
       " 'postalCode_56',\n",
       " 'postalCode_57',\n",
       " 'postalCode_58',\n",
       " 'postalCode_59',\n",
       " 'postalCode_6',\n",
       " 'postalCode_60',\n",
       " 'postalCode_61',\n",
       " 'postalCode_63',\n",
       " 'postalCode_64',\n",
       " 'postalCode_65',\n",
       " 'postalCode_66',\n",
       " 'postalCode_67',\n",
       " 'postalCode_68',\n",
       " 'postalCode_69',\n",
       " 'postalCode_7',\n",
       " 'postalCode_70',\n",
       " 'postalCode_71',\n",
       " 'postalCode_72',\n",
       " 'postalCode_73',\n",
       " 'postalCode_74',\n",
       " 'postalCode_75',\n",
       " 'postalCode_76',\n",
       " 'postalCode_77',\n",
       " 'postalCode_78',\n",
       " 'postalCode_79',\n",
       " 'postalCode_8',\n",
       " 'postalCode_80',\n",
       " 'postalCode_81',\n",
       " 'postalCode_82',\n",
       " 'postalCode_83',\n",
       " 'postalCode_84',\n",
       " 'postalCode_85',\n",
       " 'postalCode_86',\n",
       " 'postalCode_87',\n",
       " 'postalCode_88',\n",
       " 'postalCode_89',\n",
       " 'postalCode_9',\n",
       " 'postalCode_90',\n",
       " 'postalCode_91',\n",
       " 'postalCode_92',\n",
       " 'postalCode_93',\n",
       " 'postalCode_94',\n",
       " 'postalCode_95',\n",
       " 'postalCode_96',\n",
       " 'postalCode_97',\n",
       " 'postalCode_98',\n",
       " 'postalCode_99']"
      ]
     },
     "metadata": {},
     "output_type": "display_data"
    }
   ],
   "source": [
    "features_data = pd.get_dummies(features_data)\n",
    "encoded = list(features_data.columns)\n",
    "display(\"There are {} features after one-hot encoding.\".format(len(encoded)))\n",
    "display(encoded)"
   ]
  },
  {
   "cell_type": "markdown",
   "metadata": {},
   "source": [
    "Some samples are presented to make sure the encoding is successful."
   ]
  },
  {
   "cell_type": "code",
   "execution_count": 19,
   "metadata": {
    "scrolled": true
   },
   "outputs": [
    {
     "data": {
      "text/html": [
       "<div>\n",
       "<style>\n",
       "    .dataframe thead tr:only-child th {\n",
       "        text-align: right;\n",
       "    }\n",
       "\n",
       "    .dataframe thead th {\n",
       "        text-align: left;\n",
       "    }\n",
       "\n",
       "    .dataframe tbody tr th {\n",
       "        vertical-align: top;\n",
       "    }\n",
       "</style>\n",
       "<table border=\"1\" class=\"dataframe\">\n",
       "  <thead>\n",
       "    <tr style=\"text-align: right;\">\n",
       "      <th></th>\n",
       "      <th>dateCrawled</th>\n",
       "      <th>yearOfRegistration</th>\n",
       "      <th>powerPS</th>\n",
       "      <th>kilometer</th>\n",
       "      <th>dateCreated</th>\n",
       "      <th>lastSeen</th>\n",
       "      <th>abtest_control</th>\n",
       "      <th>abtest_test</th>\n",
       "      <th>vehicleType_andere</th>\n",
       "      <th>vehicleType_bus</th>\n",
       "      <th>...</th>\n",
       "      <th>postalCode_90</th>\n",
       "      <th>postalCode_91</th>\n",
       "      <th>postalCode_92</th>\n",
       "      <th>postalCode_93</th>\n",
       "      <th>postalCode_94</th>\n",
       "      <th>postalCode_95</th>\n",
       "      <th>postalCode_96</th>\n",
       "      <th>postalCode_97</th>\n",
       "      <th>postalCode_98</th>\n",
       "      <th>postalCode_99</th>\n",
       "    </tr>\n",
       "  </thead>\n",
       "  <tbody>\n",
       "    <tr>\n",
       "      <th>1</th>\n",
       "      <td>0.571441</td>\n",
       "      <td>0.924242</td>\n",
       "      <td>0.126084</td>\n",
       "      <td>0.827586</td>\n",
       "      <td>0.942623</td>\n",
       "      <td>0.983348</td>\n",
       "      <td>0</td>\n",
       "      <td>1</td>\n",
       "      <td>0</td>\n",
       "      <td>0</td>\n",
       "      <td>...</td>\n",
       "      <td>0</td>\n",
       "      <td>0</td>\n",
       "      <td>0</td>\n",
       "      <td>0</td>\n",
       "      <td>0</td>\n",
       "      <td>0</td>\n",
       "      <td>0</td>\n",
       "      <td>0</td>\n",
       "      <td>0</td>\n",
       "      <td>0</td>\n",
       "    </tr>\n",
       "    <tr>\n",
       "      <th>3</th>\n",
       "      <td>0.366929</td>\n",
       "      <td>0.772727</td>\n",
       "      <td>0.049366</td>\n",
       "      <td>1.000000</td>\n",
       "      <td>0.913934</td>\n",
       "      <td>0.367614</td>\n",
       "      <td>0</td>\n",
       "      <td>1</td>\n",
       "      <td>0</td>\n",
       "      <td>0</td>\n",
       "      <td>...</td>\n",
       "      <td>0</td>\n",
       "      <td>1</td>\n",
       "      <td>0</td>\n",
       "      <td>0</td>\n",
       "      <td>0</td>\n",
       "      <td>0</td>\n",
       "      <td>0</td>\n",
       "      <td>0</td>\n",
       "      <td>0</td>\n",
       "      <td>0</td>\n",
       "    </tr>\n",
       "    <tr>\n",
       "      <th>4</th>\n",
       "      <td>0.791556</td>\n",
       "      <td>0.878788</td>\n",
       "      <td>0.045364</td>\n",
       "      <td>0.586207</td>\n",
       "      <td>0.971311</td>\n",
       "      <td>0.963806</td>\n",
       "      <td>0</td>\n",
       "      <td>1</td>\n",
       "      <td>0</td>\n",
       "      <td>0</td>\n",
       "      <td>...</td>\n",
       "      <td>0</td>\n",
       "      <td>0</td>\n",
       "      <td>0</td>\n",
       "      <td>0</td>\n",
       "      <td>0</td>\n",
       "      <td>0</td>\n",
       "      <td>0</td>\n",
       "      <td>0</td>\n",
       "      <td>0</td>\n",
       "      <td>0</td>\n",
       "    </tr>\n",
       "  </tbody>\n",
       "</table>\n",
       "<p>3 rows × 424 columns</p>\n",
       "</div>"
      ],
      "text/plain": [
       "   dateCrawled  yearOfRegistration   powerPS  kilometer  dateCreated  \\\n",
       "1     0.571441            0.924242  0.126084   0.827586     0.942623   \n",
       "3     0.366929            0.772727  0.049366   1.000000     0.913934   \n",
       "4     0.791556            0.878788  0.045364   0.586207     0.971311   \n",
       "\n",
       "   lastSeen  abtest_control  abtest_test  vehicleType_andere  vehicleType_bus  \\\n",
       "1  0.983348               0            1                   0                0   \n",
       "3  0.367614               0            1                   0                0   \n",
       "4  0.963806               0            1                   0                0   \n",
       "\n",
       "       ...        postalCode_90  postalCode_91  postalCode_92  postalCode_93  \\\n",
       "1      ...                    0              0              0              0   \n",
       "3      ...                    0              1              0              0   \n",
       "4      ...                    0              0              0              0   \n",
       "\n",
       "   postalCode_94  postalCode_95  postalCode_96  postalCode_97  postalCode_98  \\\n",
       "1              0              0              0              0              0   \n",
       "3              0              0              0              0              0   \n",
       "4              0              0              0              0              0   \n",
       "\n",
       "   postalCode_99  \n",
       "1              0  \n",
       "3              0  \n",
       "4              0  \n",
       "\n",
       "[3 rows x 424 columns]"
      ]
     },
     "metadata": {},
     "output_type": "display_data"
    }
   ],
   "source": [
    "display(features_data.head(3))"
   ]
  },
  {
   "cell_type": "code",
   "execution_count": 20,
   "metadata": {},
   "outputs": [
    {
     "name": "stdout",
     "output_type": "stream",
     "text": [
      "Train set has 146752 samples.\n",
      "Validation set has 48918 samples.\n",
      "Test set has 48918 samples.\n"
     ]
    }
   ],
   "source": [
    "from sklearn.model_selection import train_test_split\n",
    "\n",
    "# Split the 'features' and 'income' data into training and testing sets\n",
    "X_train_val, X_test, y_train_val, y_test = \\\n",
    "train_test_split(features_data, price_data, test_size = 0.2, random_state = 0)\n",
    "X_train,X_val,y_train,y_val=\\\n",
    "train_test_split(X_train_val, y_train_val, test_size = 0.25, random_state = 0)\n",
    "X_train=np.array(X_train)\n",
    "y_train=np.array(y_train)\n",
    "X_val=np.array(X_val)\n",
    "y_val=np.array(y_val)\n",
    "X_test=np.array(X_test)\n",
    "y_test=np.array(y_test)\n",
    "\n",
    "# Show the results of the split\n",
    "print \"Train set has {} samples.\".format(X_train.shape[0])\n",
    "print \"Validation set has {} samples.\".format(X_val.shape[0])\n",
    "print \"Test set has {} samples.\".format(X_test.shape[0])"
   ]
  },
  {
   "cell_type": "markdown",
   "metadata": {},
   "source": [
    "### Implementation:"
   ]
  },
  {
   "cell_type": "markdown",
   "metadata": {},
   "source": [
    "First implement the naive model as a benchmark. It's seen that the naive predictor get a score of approximately 5440, meaning that averagely the difference between the prediction price and the true price is about $5440."
   ]
  },
  {
   "cell_type": "code",
   "execution_count": 21,
   "metadata": {},
   "outputs": [
    {
     "data": {
      "text/plain": [
       "array([ 6866.13826047,  6866.13826047,  6866.13826047, ...,  6866.13826047,\n",
       "        6866.13826047,  6866.13826047])"
      ]
     },
     "metadata": {},
     "output_type": "display_data"
    },
    {
     "data": {
      "text/plain": [
       "'The naive model gets a score of 5439.84351016 for the test set.'"
      ]
     },
     "metadata": {},
     "output_type": "display_data"
    }
   ],
   "source": [
    "def naive_price_predictor(X_train,y_train,X_test,y_test):\n",
    "    mean=np.mean(y_train)\n",
    "    prediction=mean*np.ones(y_test.shape)\n",
    "    return prediction\n",
    "\n",
    "naive_prediction=naive_price_predictor(X_train,y_train,X_test,y_test)\n",
    "display(naive_prediction)\n",
    "\n",
    "def self_defined_error_func(y_test,y_pred):\n",
    "    err=np.mean(np.abs(y_test-y_pred))\n",
    "    return err\n",
    "naive_prediction_score=self_defined_error_func(y_test,naive_prediction)\n",
    "display('The naive model gets a score of {} for the test set.'.format(naive_prediction_score))"
   ]
  },
  {
   "cell_type": "markdown",
   "metadata": {},
   "source": [
    "So naive predictor is not performing very well. Next, a more effective model will be created, evaluated and compared with this benchmark model."
   ]
  },
  {
   "cell_type": "markdown",
   "metadata": {},
   "source": [
    "Use keras to train the model. Have a try of single layer neural network without nonlinear activation function. This is to check if a linear model is already good enough for solving the problem."
   ]
  },
  {
   "cell_type": "code",
   "execution_count": 22,
   "metadata": {},
   "outputs": [
    {
     "name": "stderr",
     "output_type": "stream",
     "text": [
      "Using TensorFlow backend.\n"
     ]
    },
    {
     "name": "stdout",
     "output_type": "stream",
     "text": [
      "_________________________________________________________________\n",
      "Layer (type)                 Output Shape              Param #   \n",
      "=================================================================\n",
      "dense_1 (Dense)              (None, 128)               54400     \n",
      "_________________________________________________________________\n",
      "dense_2 (Dense)              (None, 1)                 129       \n",
      "=================================================================\n",
      "Total params: 54,529\n",
      "Trainable params: 54,529\n",
      "Non-trainable params: 0\n",
      "_________________________________________________________________\n"
     ]
    }
   ],
   "source": [
    "from keras.models import Sequential\n",
    "from keras.layers import Dense, Activation, Dropout\n",
    "\n",
    "loss_function='mean_absolute_error'\n",
    "model1=Sequential()\n",
    "\n",
    "model1.add(Dense(128,input_dim=424))\n",
    "model1.add(Dense(1))\n",
    "\n",
    "model1.summary()"
   ]
  },
  {
   "cell_type": "code",
   "execution_count": 23,
   "metadata": {
    "collapsed": true
   },
   "outputs": [],
   "source": [
    "model1.compile(optimizer='adam', loss=loss_function)"
   ]
  },
  {
   "cell_type": "code",
   "execution_count": 24,
   "metadata": {},
   "outputs": [
    {
     "name": "stdout",
     "output_type": "stream",
     "text": [
      "Epoch 00000: val_loss improved from inf to 6443.76277, saving model to model1_best.hdf5\n",
      "Epoch 00001: val_loss improved from 6443.76277 to 5657.56523, saving model to model1_best.hdf5\n",
      "Epoch 00002: val_loss improved from 5657.56523 to 5142.38910, saving model to model1_best.hdf5\n",
      "Epoch 00003: val_loss improved from 5142.38910 to 4889.27696, saving model to model1_best.hdf5\n",
      "Epoch 00004: val_loss improved from 4889.27696 to 4756.17597, saving model to model1_best.hdf5\n",
      "Epoch 00005: val_loss improved from 4756.17597 to 4653.92957, saving model to model1_best.hdf5\n",
      "Epoch 00006: val_loss improved from 4653.92957 to 4553.35696, saving model to model1_best.hdf5\n",
      "Epoch 00007: val_loss improved from 4553.35696 to 4447.10355, saving model to model1_best.hdf5\n",
      "Epoch 00008: val_loss improved from 4447.10355 to 4334.94036, saving model to model1_best.hdf5\n",
      "Epoch 00009: val_loss improved from 4334.94036 to 4223.07647, saving model to model1_best.hdf5\n",
      "Epoch 00010: val_loss improved from 4223.07647 to 4120.21274, saving model to model1_best.hdf5\n",
      "Epoch 00011: val_loss improved from 4120.21274 to 4030.20025, saving model to model1_best.hdf5\n",
      "Epoch 00012: val_loss improved from 4030.20025 to 3952.43460, saving model to model1_best.hdf5\n",
      "Epoch 00013: val_loss improved from 3952.43460 to 3884.17357, saving model to model1_best.hdf5\n",
      "Epoch 00014: val_loss improved from 3884.17357 to 3822.34318, saving model to model1_best.hdf5\n",
      "Epoch 00015: val_loss improved from 3822.34318 to 3764.88215, saving model to model1_best.hdf5\n",
      "Epoch 00016: val_loss improved from 3764.88215 to 3709.85229, saving model to model1_best.hdf5\n",
      "Epoch 00017: val_loss improved from 3709.85229 to 3657.32232, saving model to model1_best.hdf5\n",
      "Epoch 00018: val_loss improved from 3657.32232 to 3606.06773, saving model to model1_best.hdf5\n",
      "Epoch 00019: val_loss improved from 3606.06773 to 3556.22313, saving model to model1_best.hdf5\n"
     ]
    },
    {
     "data": {
      "text/plain": [
       "<keras.callbacks.History at 0x1493b3210>"
      ]
     },
     "execution_count": 24,
     "metadata": {},
     "output_type": "execute_result"
    }
   ],
   "source": [
    "from keras.callbacks import ModelCheckpoint, Callback\n",
    "\n",
    "checkpointer = ModelCheckpoint(filepath='model1_best.hdf5', \n",
    "                               verbose=1, save_best_only=True)\n",
    "\n",
    "model1.fit(X_train, y_train, \n",
    "          validation_data=[X_val,y_val],\n",
    "          epochs=20, batch_size=500, callbacks=[checkpointer],verbose=0)"
   ]
  },
  {
   "cell_type": "code",
   "execution_count": 25,
   "metadata": {},
   "outputs": [
    {
     "name": "stdout",
     "output_type": "stream",
     "text": [
      "48384/48918 [============================>.] - ETA: 0s"
     ]
    },
    {
     "data": {
      "text/plain": [
       "'The linear model gets a score of 3569.43456469 for the test set.'"
      ]
     },
     "metadata": {},
     "output_type": "display_data"
    }
   ],
   "source": [
    "model1.load_weights('model1_best.hdf5')\n",
    "linear_score=model1.evaluate(X_test,y_test,verbose=1)\n",
    "display(\"The linear model gets a score of {} for the test set.\".format(linear_score))"
   ]
  },
  {
   "cell_type": "markdown",
   "metadata": {},
   "source": [
    "As can be seen, the linear model provides much better prediction prices comparing with the naive model. However, without future processing of the features, a linear model is still not good enough to solve the problem. While properly handling with nonlinear relation between features is difficult and needs many experiences and experiments. A more convenient way is to employ a multilayer neural network with nonlinear activation functions. Then the model will automatically find out the best way to represent the nonlinear relations between features and the price."
   ]
  },
  {
   "cell_type": "markdown",
   "metadata": {},
   "source": [
    "A neural network with two inner layers and relu function as the activation function in each layer is tested to see if a nonlinear model performs better."
   ]
  },
  {
   "cell_type": "code",
   "execution_count": 26,
   "metadata": {},
   "outputs": [
    {
     "name": "stdout",
     "output_type": "stream",
     "text": [
      "_________________________________________________________________\n",
      "Layer (type)                 Output Shape              Param #   \n",
      "=================================================================\n",
      "dense_3 (Dense)              (None, 128)               54400     \n",
      "_________________________________________________________________\n",
      "dense_4 (Dense)              (None, 32)                4128      \n",
      "_________________________________________________________________\n",
      "dense_5 (Dense)              (None, 1)                 33        \n",
      "=================================================================\n",
      "Total params: 58,561\n",
      "Trainable params: 58,561\n",
      "Non-trainable params: 0\n",
      "_________________________________________________________________\n"
     ]
    }
   ],
   "source": [
    "model2=Sequential()\n",
    "\n",
    "model2.add(Dense(128,activation='relu',input_dim=424))\n",
    "model2.add(Dense(32,activation='relu'))\n",
    "model2.add(Dense(1))\n",
    "\n",
    "model2.summary()"
   ]
  },
  {
   "cell_type": "code",
   "execution_count": 27,
   "metadata": {
    "collapsed": true
   },
   "outputs": [],
   "source": [
    "model2.compile(optimizer='adam', loss=loss_function)"
   ]
  },
  {
   "cell_type": "code",
   "execution_count": 28,
   "metadata": {},
   "outputs": [
    {
     "name": "stdout",
     "output_type": "stream",
     "text": [
      "Epoch 00000: val_loss improved from inf to 4919.75029, saving model to model2_best.hdf5\n",
      "Epoch 00001: val_loss improved from 4919.75029 to 4409.01626, saving model to model2_best.hdf5\n",
      "Epoch 00002: val_loss improved from 4409.01626 to 3890.16377, saving model to model2_best.hdf5\n",
      "Epoch 00003: val_loss improved from 3890.16377 to 3550.62841, saving model to model2_best.hdf5\n",
      "Epoch 00004: val_loss improved from 3550.62841 to 3264.34711, saving model to model2_best.hdf5\n",
      "Epoch 00005: val_loss improved from 3264.34711 to 2977.32745, saving model to model2_best.hdf5\n",
      "Epoch 00006: val_loss improved from 2977.32745 to 2713.84424, saving model to model2_best.hdf5\n",
      "Epoch 00007: val_loss improved from 2713.84424 to 2515.27353, saving model to model2_best.hdf5\n",
      "Epoch 00008: val_loss improved from 2515.27353 to 2382.22594, saving model to model2_best.hdf5\n",
      "Epoch 00009: val_loss improved from 2382.22594 to 2291.22993, saving model to model2_best.hdf5\n",
      "Epoch 00010: val_loss improved from 2291.22993 to 2224.59657, saving model to model2_best.hdf5\n",
      "Epoch 00011: val_loss improved from 2224.59657 to 2169.54929, saving model to model2_best.hdf5\n",
      "Epoch 00012: val_loss improved from 2169.54929 to 2119.54730, saving model to model2_best.hdf5\n",
      "Epoch 00013: val_loss improved from 2119.54730 to 2070.03063, saving model to model2_best.hdf5\n",
      "Epoch 00014: val_loss improved from 2070.03063 to 2020.43940, saving model to model2_best.hdf5\n",
      "Epoch 00015: val_loss improved from 2020.43940 to 1970.39220, saving model to model2_best.hdf5\n",
      "Epoch 00016: val_loss improved from 1970.39220 to 1925.26263, saving model to model2_best.hdf5\n",
      "Epoch 00017: val_loss improved from 1925.26263 to 1879.22969, saving model to model2_best.hdf5\n",
      "Epoch 00018: val_loss improved from 1879.22969 to 1837.05115, saving model to model2_best.hdf5\n",
      "Epoch 00019: val_loss improved from 1837.05115 to 1793.54395, saving model to model2_best.hdf5\n"
     ]
    },
    {
     "data": {
      "text/plain": [
       "<keras.callbacks.History at 0x11efa2410>"
      ]
     },
     "execution_count": 28,
     "metadata": {},
     "output_type": "execute_result"
    }
   ],
   "source": [
    "checkpointer2 = ModelCheckpoint(filepath='model2_best.hdf5', \n",
    "                               verbose=1, save_best_only=True)\n",
    "\n",
    "model2.fit(X_train, y_train, \n",
    "          validation_data=[X_val,y_val],\n",
    "          epochs=20, batch_size=500, callbacks=[checkpointer2],verbose=0)"
   ]
  },
  {
   "cell_type": "code",
   "execution_count": 29,
   "metadata": {},
   "outputs": [
    {
     "name": "stdout",
     "output_type": "stream",
     "text": [
      "48608/48918 [============================>.] - ETA: 0s"
     ]
    },
    {
     "data": {
      "text/plain": [
       "'The two layers model gets a score of 1784.61659176 for the test set.'"
      ]
     },
     "metadata": {},
     "output_type": "display_data"
    }
   ],
   "source": [
    "model2.load_weights('model2_best.hdf5')\n",
    "two_layer_score=model2.evaluate(X_test,y_test,verbose=1)\n",
    "display(\"The two layers model gets a score of {} for the test set.\".format(two_layer_score))"
   ]
  },
  {
   "cell_type": "markdown",
   "metadata": {},
   "source": [
    "A simple single layer neural network with relu activation function improves the prediction prices with the error halved. This indicates that introducing more nonlinear properties of the model indeed improves its performance. So next a multilayer neural network will be created and its hyperparameters will be carefully tuned to find the best model for solving the problem."
   ]
  },
  {
   "cell_type": "markdown",
   "metadata": {},
   "source": [
    "### Refinement: "
   ]
  },
  {
   "cell_type": "markdown",
   "metadata": {},
   "source": [
    "To tune the hyperparameters of the multilayer neural network, following experiments have been taken:\n",
    "\n",
    "1. 2,3 or 4 layers are added to the model to determine how many layers gives the best score.\n",
    "\n",
    "2. Different number of nodes in each layer are tested within the set of (1024,512,256,128,64,32,16,8) to determine how many nodes should each layer has.\n",
    "\n",
    "3. Type of activation functions are tuned, in the set of ('relu','sigmoid','softmax','tanh').\n",
    "\n",
    "4. Dropout rate within each layer are also tuned. Dropout rate in the set of (0,0.2,0.4,0.5) are tested.\n",
    "\n",
    "Finally, the model provides an acceptable outcome is as following:"
   ]
  },
  {
   "cell_type": "code",
   "execution_count": 30,
   "metadata": {},
   "outputs": [
    {
     "name": "stdout",
     "output_type": "stream",
     "text": [
      "_________________________________________________________________\n",
      "Layer (type)                 Output Shape              Param #   \n",
      "=================================================================\n",
      "dense_6 (Dense)              (None, 128)               54400     \n",
      "_________________________________________________________________\n",
      "dense_7 (Dense)              (None, 64)                8256      \n",
      "_________________________________________________________________\n",
      "dense_8 (Dense)              (None, 32)                2080      \n",
      "_________________________________________________________________\n",
      "dense_9 (Dense)              (None, 8)                 264       \n",
      "_________________________________________________________________\n",
      "dense_10 (Dense)             (None, 1)                 9         \n",
      "=================================================================\n",
      "Total params: 65,009\n",
      "Trainable params: 65,009\n",
      "Non-trainable params: 0\n",
      "_________________________________________________________________\n"
     ]
    }
   ],
   "source": [
    "price_predictor = Sequential()\n",
    "\n",
    "price_predictor.add(Dense(128,activation='relu', input_dim=424))\n",
    "price_predictor.add(Dense(64))\n",
    "price_predictor.add(Dense(32,activation='relu'))\n",
    "price_predictor.add(Dense(8))\n",
    "price_predictor.add(Dense(1))\n",
    "price_predictor.summary()"
   ]
  },
  {
   "cell_type": "code",
   "execution_count": 31,
   "metadata": {},
   "outputs": [
    {
     "name": "stdout",
     "output_type": "stream",
     "text": [
      "Epoch 00000: val_loss improved from inf to 3769.08099, saving model to price_model_best.hdf5\n",
      "Epoch 00001: val_loss improved from 3769.08099 to 2490.41761, saving model to price_model_best.hdf5\n",
      "Epoch 00002: val_loss improved from 2490.41761 to 2103.65344, saving model to price_model_best.hdf5\n",
      "Epoch 00003: val_loss improved from 2103.65344 to 1890.15293, saving model to price_model_best.hdf5\n",
      "Epoch 00004: val_loss improved from 1890.15293 to 1731.66230, saving model to price_model_best.hdf5\n",
      "Epoch 00005: val_loss improved from 1731.66230 to 1604.68670, saving model to price_model_best.hdf5\n",
      "Epoch 00006: val_loss improved from 1604.68670 to 1535.86900, saving model to price_model_best.hdf5\n",
      "Epoch 00007: val_loss improved from 1535.86900 to 1505.98563, saving model to price_model_best.hdf5\n",
      "Epoch 00008: val_loss improved from 1505.98563 to 1465.89153, saving model to price_model_best.hdf5\n",
      "Epoch 00009: val_loss improved from 1465.89153 to 1447.49540, saving model to price_model_best.hdf5\n",
      "Epoch 00010: val_loss improved from 1447.49540 to 1434.64503, saving model to price_model_best.hdf5\n",
      "Epoch 00011: val_loss improved from 1434.64503 to 1414.50249, saving model to price_model_best.hdf5\n",
      "Epoch 00012: val_loss improved from 1414.50249 to 1411.52942, saving model to price_model_best.hdf5\n",
      "Epoch 00013: val_loss improved from 1411.52942 to 1399.09516, saving model to price_model_best.hdf5\n",
      "Epoch 00014: val_loss improved from 1399.09516 to 1393.49626, saving model to price_model_best.hdf5\n",
      "Epoch 00015: val_loss did not improve\n",
      "Epoch 00016: val_loss did not improve\n",
      "Epoch 00017: val_loss improved from 1393.49626 to 1377.70175, saving model to price_model_best.hdf5\n",
      "Epoch 00018: val_loss improved from 1377.70175 to 1374.19291, saving model to price_model_best.hdf5\n",
      "Epoch 00019: val_loss did not improve\n"
     ]
    },
    {
     "data": {
      "text/plain": [
       "<keras.callbacks.History at 0x11f4c9f10>"
      ]
     },
     "execution_count": 31,
     "metadata": {},
     "output_type": "execute_result"
    }
   ],
   "source": [
    "price_predictor.compile(optimizer='Adam', loss=loss_function)\n",
    "checkpointer3 = ModelCheckpoint(filepath='price_model_best.hdf5', \n",
    "                               verbose=1, save_best_only=True)\n",
    "price_predictor.fit(X_train, y_train, \n",
    "          validation_data=[X_val,y_val],\n",
    "          epochs=20, batch_size=500, callbacks=[checkpointer3],verbose=0)"
   ]
  },
  {
   "cell_type": "code",
   "execution_count": 32,
   "metadata": {},
   "outputs": [
    {
     "name": "stdout",
     "output_type": "stream",
     "text": [
      "48608/48918 [============================>.] - ETA: 0s"
     ]
    },
    {
     "data": {
      "text/plain": [
       "'The final model gets a score of 1361.2580486 for the test set.'"
      ]
     },
     "metadata": {},
     "output_type": "display_data"
    }
   ],
   "source": [
    "price_predictor.load_weights('price_model_best.hdf5')\n",
    "score=price_predictor.evaluate(X_test,y_test,verbose=1)\n",
    "display(\"The final model gets a score of {} for the test set.\".format(score))"
   ]
  },
  {
   "cell_type": "markdown",
   "metadata": {},
   "source": [
    "## IV. Results "
   ]
  },
  {
   "cell_type": "markdown",
   "metadata": {},
   "source": [
    "### Model evaluation and validation:"
   ]
  },
  {
   "cell_type": "markdown",
   "metadata": {},
   "source": [
    "The final model has four inner layers with reasonable number of nodes in each layer, it takes processed data for a used car ad and predicts the price of the car. Based on its performance on data in the test set, averagely the model's prediction has an approximately $1340 error compared to the actual price. This is acceptable, and much better than the prediction made by the naive mean predictor, which is taken as the benchmark."
   ]
  },
  {
   "cell_type": "code",
   "execution_count": 33,
   "metadata": {},
   "outputs": [
    {
     "data": {
      "text/html": [
       "<div>\n",
       "<style>\n",
       "    .dataframe thead tr:only-child th {\n",
       "        text-align: right;\n",
       "    }\n",
       "\n",
       "    .dataframe thead th {\n",
       "        text-align: left;\n",
       "    }\n",
       "\n",
       "    .dataframe tbody tr th {\n",
       "        vertical-align: top;\n",
       "    }\n",
       "</style>\n",
       "<table border=\"1\" class=\"dataframe\">\n",
       "  <thead>\n",
       "    <tr style=\"text-align: right;\">\n",
       "      <th></th>\n",
       "      <th>0</th>\n",
       "      <th>1</th>\n",
       "      <th>2</th>\n",
       "      <th>3</th>\n",
       "      <th>4</th>\n",
       "      <th>5</th>\n",
       "      <th>6</th>\n",
       "      <th>7</th>\n",
       "      <th>8</th>\n",
       "      <th>9</th>\n",
       "      <th>...</th>\n",
       "      <th>414</th>\n",
       "      <th>415</th>\n",
       "      <th>416</th>\n",
       "      <th>417</th>\n",
       "      <th>418</th>\n",
       "      <th>419</th>\n",
       "      <th>420</th>\n",
       "      <th>421</th>\n",
       "      <th>422</th>\n",
       "      <th>423</th>\n",
       "    </tr>\n",
       "  </thead>\n",
       "  <tbody>\n",
       "    <tr>\n",
       "      <th>count</th>\n",
       "      <td>48918.000000</td>\n",
       "      <td>48918.000000</td>\n",
       "      <td>48918.000000</td>\n",
       "      <td>48918.000000</td>\n",
       "      <td>48918.000000</td>\n",
       "      <td>48918.000000</td>\n",
       "      <td>48918.000000</td>\n",
       "      <td>48918.000000</td>\n",
       "      <td>48918.000000</td>\n",
       "      <td>48918.000000</td>\n",
       "      <td>...</td>\n",
       "      <td>48918.000000</td>\n",
       "      <td>48918.000000</td>\n",
       "      <td>48918.000000</td>\n",
       "      <td>48918.000000</td>\n",
       "      <td>48918.000000</td>\n",
       "      <td>48918.000000</td>\n",
       "      <td>48918.000000</td>\n",
       "      <td>48918.000000</td>\n",
       "      <td>48918.000000</td>\n",
       "      <td>48918.000000</td>\n",
       "    </tr>\n",
       "    <tr>\n",
       "      <th>mean</th>\n",
       "      <td>0.486118</td>\n",
       "      <td>0.811736</td>\n",
       "      <td>0.085737</td>\n",
       "      <td>0.816869</td>\n",
       "      <td>0.929925</td>\n",
       "      <td>0.757501</td>\n",
       "      <td>0.483135</td>\n",
       "      <td>0.516865</td>\n",
       "      <td>0.005928</td>\n",
       "      <td>0.099554</td>\n",
       "      <td>...</td>\n",
       "      <td>0.011448</td>\n",
       "      <td>0.011284</td>\n",
       "      <td>0.007073</td>\n",
       "      <td>0.007175</td>\n",
       "      <td>0.011407</td>\n",
       "      <td>0.006071</td>\n",
       "      <td>0.006419</td>\n",
       "      <td>0.011386</td>\n",
       "      <td>0.002514</td>\n",
       "      <td>0.008095</td>\n",
       "    </tr>\n",
       "    <tr>\n",
       "      <th>std</th>\n",
       "      <td>0.277103</td>\n",
       "      <td>0.096487</td>\n",
       "      <td>0.041835</td>\n",
       "      <td>0.275985</td>\n",
       "      <td>0.038089</td>\n",
       "      <td>0.272201</td>\n",
       "      <td>0.499721</td>\n",
       "      <td>0.499721</td>\n",
       "      <td>0.076768</td>\n",
       "      <td>0.299408</td>\n",
       "      <td>...</td>\n",
       "      <td>0.106381</td>\n",
       "      <td>0.105627</td>\n",
       "      <td>0.083804</td>\n",
       "      <td>0.084403</td>\n",
       "      <td>0.106193</td>\n",
       "      <td>0.077683</td>\n",
       "      <td>0.079861</td>\n",
       "      <td>0.106099</td>\n",
       "      <td>0.050081</td>\n",
       "      <td>0.089609</td>\n",
       "    </tr>\n",
       "    <tr>\n",
       "      <th>min</th>\n",
       "      <td>0.000001</td>\n",
       "      <td>0.000000</td>\n",
       "      <td>0.000000</td>\n",
       "      <td>0.000000</td>\n",
       "      <td>0.401639</td>\n",
       "      <td>0.000608</td>\n",
       "      <td>0.000000</td>\n",
       "      <td>0.000000</td>\n",
       "      <td>0.000000</td>\n",
       "      <td>0.000000</td>\n",
       "      <td>...</td>\n",
       "      <td>0.000000</td>\n",
       "      <td>0.000000</td>\n",
       "      <td>0.000000</td>\n",
       "      <td>0.000000</td>\n",
       "      <td>0.000000</td>\n",
       "      <td>0.000000</td>\n",
       "      <td>0.000000</td>\n",
       "      <td>0.000000</td>\n",
       "      <td>0.000000</td>\n",
       "      <td>0.000000</td>\n",
       "    </tr>\n",
       "    <tr>\n",
       "      <th>25%</th>\n",
       "      <td>0.240778</td>\n",
       "      <td>0.757576</td>\n",
       "      <td>0.056704</td>\n",
       "      <td>0.655172</td>\n",
       "      <td>0.897541</td>\n",
       "      <td>0.570836</td>\n",
       "      <td>0.000000</td>\n",
       "      <td>0.000000</td>\n",
       "      <td>0.000000</td>\n",
       "      <td>0.000000</td>\n",
       "      <td>...</td>\n",
       "      <td>0.000000</td>\n",
       "      <td>0.000000</td>\n",
       "      <td>0.000000</td>\n",
       "      <td>0.000000</td>\n",
       "      <td>0.000000</td>\n",
       "      <td>0.000000</td>\n",
       "      <td>0.000000</td>\n",
       "      <td>0.000000</td>\n",
       "      <td>0.000000</td>\n",
       "      <td>0.000000</td>\n",
       "    </tr>\n",
       "    <tr>\n",
       "      <th>50%</th>\n",
       "      <td>0.491512</td>\n",
       "      <td>0.818182</td>\n",
       "      <td>0.076718</td>\n",
       "      <td>1.000000</td>\n",
       "      <td>0.930328</td>\n",
       "      <td>0.921487</td>\n",
       "      <td>0.000000</td>\n",
       "      <td>1.000000</td>\n",
       "      <td>0.000000</td>\n",
       "      <td>0.000000</td>\n",
       "      <td>...</td>\n",
       "      <td>0.000000</td>\n",
       "      <td>0.000000</td>\n",
       "      <td>0.000000</td>\n",
       "      <td>0.000000</td>\n",
       "      <td>0.000000</td>\n",
       "      <td>0.000000</td>\n",
       "      <td>0.000000</td>\n",
       "      <td>0.000000</td>\n",
       "      <td>0.000000</td>\n",
       "      <td>0.000000</td>\n",
       "    </tr>\n",
       "    <tr>\n",
       "      <th>75%</th>\n",
       "      <td>0.731259</td>\n",
       "      <td>0.878788</td>\n",
       "      <td>0.105237</td>\n",
       "      <td>1.000000</td>\n",
       "      <td>0.963115</td>\n",
       "      <td>0.966902</td>\n",
       "      <td>1.000000</td>\n",
       "      <td>1.000000</td>\n",
       "      <td>0.000000</td>\n",
       "      <td>0.000000</td>\n",
       "      <td>...</td>\n",
       "      <td>0.000000</td>\n",
       "      <td>0.000000</td>\n",
       "      <td>0.000000</td>\n",
       "      <td>0.000000</td>\n",
       "      <td>0.000000</td>\n",
       "      <td>0.000000</td>\n",
       "      <td>0.000000</td>\n",
       "      <td>0.000000</td>\n",
       "      <td>0.000000</td>\n",
       "      <td>0.000000</td>\n",
       "    </tr>\n",
       "    <tr>\n",
       "      <th>max</th>\n",
       "      <td>1.000000</td>\n",
       "      <td>1.000000</td>\n",
       "      <td>0.935290</td>\n",
       "      <td>1.000000</td>\n",
       "      <td>1.000000</td>\n",
       "      <td>1.000000</td>\n",
       "      <td>1.000000</td>\n",
       "      <td>1.000000</td>\n",
       "      <td>1.000000</td>\n",
       "      <td>1.000000</td>\n",
       "      <td>...</td>\n",
       "      <td>1.000000</td>\n",
       "      <td>1.000000</td>\n",
       "      <td>1.000000</td>\n",
       "      <td>1.000000</td>\n",
       "      <td>1.000000</td>\n",
       "      <td>1.000000</td>\n",
       "      <td>1.000000</td>\n",
       "      <td>1.000000</td>\n",
       "      <td>1.000000</td>\n",
       "      <td>1.000000</td>\n",
       "    </tr>\n",
       "  </tbody>\n",
       "</table>\n",
       "<p>8 rows × 424 columns</p>\n",
       "</div>"
      ],
      "text/plain": [
       "                0             1             2             3             4    \\\n",
       "count  48918.000000  48918.000000  48918.000000  48918.000000  48918.000000   \n",
       "mean       0.486118      0.811736      0.085737      0.816869      0.929925   \n",
       "std        0.277103      0.096487      0.041835      0.275985      0.038089   \n",
       "min        0.000001      0.000000      0.000000      0.000000      0.401639   \n",
       "25%        0.240778      0.757576      0.056704      0.655172      0.897541   \n",
       "50%        0.491512      0.818182      0.076718      1.000000      0.930328   \n",
       "75%        0.731259      0.878788      0.105237      1.000000      0.963115   \n",
       "max        1.000000      1.000000      0.935290      1.000000      1.000000   \n",
       "\n",
       "                5             6             7             8             9    \\\n",
       "count  48918.000000  48918.000000  48918.000000  48918.000000  48918.000000   \n",
       "mean       0.757501      0.483135      0.516865      0.005928      0.099554   \n",
       "std        0.272201      0.499721      0.499721      0.076768      0.299408   \n",
       "min        0.000608      0.000000      0.000000      0.000000      0.000000   \n",
       "25%        0.570836      0.000000      0.000000      0.000000      0.000000   \n",
       "50%        0.921487      0.000000      1.000000      0.000000      0.000000   \n",
       "75%        0.966902      1.000000      1.000000      0.000000      0.000000   \n",
       "max        1.000000      1.000000      1.000000      1.000000      1.000000   \n",
       "\n",
       "           ...                414           415           416           417  \\\n",
       "count      ...       48918.000000  48918.000000  48918.000000  48918.000000   \n",
       "mean       ...           0.011448      0.011284      0.007073      0.007175   \n",
       "std        ...           0.106381      0.105627      0.083804      0.084403   \n",
       "min        ...           0.000000      0.000000      0.000000      0.000000   \n",
       "25%        ...           0.000000      0.000000      0.000000      0.000000   \n",
       "50%        ...           0.000000      0.000000      0.000000      0.000000   \n",
       "75%        ...           0.000000      0.000000      0.000000      0.000000   \n",
       "max        ...           1.000000      1.000000      1.000000      1.000000   \n",
       "\n",
       "                418           419           420           421           422  \\\n",
       "count  48918.000000  48918.000000  48918.000000  48918.000000  48918.000000   \n",
       "mean       0.011407      0.006071      0.006419      0.011386      0.002514   \n",
       "std        0.106193      0.077683      0.079861      0.106099      0.050081   \n",
       "min        0.000000      0.000000      0.000000      0.000000      0.000000   \n",
       "25%        0.000000      0.000000      0.000000      0.000000      0.000000   \n",
       "50%        0.000000      0.000000      0.000000      0.000000      0.000000   \n",
       "75%        0.000000      0.000000      0.000000      0.000000      0.000000   \n",
       "max        1.000000      1.000000      1.000000      1.000000      1.000000   \n",
       "\n",
       "                423  \n",
       "count  48918.000000  \n",
       "mean       0.008095  \n",
       "std        0.089609  \n",
       "min        0.000000  \n",
       "25%        0.000000  \n",
       "50%        0.000000  \n",
       "75%        0.000000  \n",
       "max        1.000000  \n",
       "\n",
       "[8 rows x 424 columns]"
      ]
     },
     "metadata": {},
     "output_type": "display_data"
    },
    {
     "data": {
      "text/html": [
       "<div>\n",
       "<style>\n",
       "    .dataframe thead tr:only-child th {\n",
       "        text-align: right;\n",
       "    }\n",
       "\n",
       "    .dataframe thead th {\n",
       "        text-align: left;\n",
       "    }\n",
       "\n",
       "    .dataframe tbody tr th {\n",
       "        vertical-align: top;\n",
       "    }\n",
       "</style>\n",
       "<table border=\"1\" class=\"dataframe\">\n",
       "  <thead>\n",
       "    <tr style=\"text-align: right;\">\n",
       "      <th></th>\n",
       "      <th>0</th>\n",
       "    </tr>\n",
       "  </thead>\n",
       "  <tbody>\n",
       "    <tr>\n",
       "      <th>count</th>\n",
       "      <td>48918.000000</td>\n",
       "    </tr>\n",
       "    <tr>\n",
       "      <th>mean</th>\n",
       "      <td>6830.070444</td>\n",
       "    </tr>\n",
       "    <tr>\n",
       "      <th>std</th>\n",
       "      <td>7964.587945</td>\n",
       "    </tr>\n",
       "    <tr>\n",
       "      <th>min</th>\n",
       "      <td>1.000000</td>\n",
       "    </tr>\n",
       "    <tr>\n",
       "      <th>25%</th>\n",
       "      <td>1700.000000</td>\n",
       "    </tr>\n",
       "    <tr>\n",
       "      <th>50%</th>\n",
       "      <td>4000.000000</td>\n",
       "    </tr>\n",
       "    <tr>\n",
       "      <th>75%</th>\n",
       "      <td>8950.000000</td>\n",
       "    </tr>\n",
       "    <tr>\n",
       "      <th>max</th>\n",
       "      <td>90900.000000</td>\n",
       "    </tr>\n",
       "  </tbody>\n",
       "</table>\n",
       "</div>"
      ],
      "text/plain": [
       "                  0\n",
       "count  48918.000000\n",
       "mean    6830.070444\n",
       "std     7964.587945\n",
       "min        1.000000\n",
       "25%     1700.000000\n",
       "50%     4000.000000\n",
       "75%     8950.000000\n",
       "max    90900.000000"
      ]
     },
     "metadata": {},
     "output_type": "display_data"
    }
   ],
   "source": [
    "display(pd.DataFrame(X_test).describe())\n",
    "display(pd.DataFrame(y_test).describe())"
   ]
  },
  {
   "cell_type": "markdown",
   "metadata": {},
   "source": [
    "As shown above, the test set contains 48918 records, with the features and price data spreaded in a large range. So for the unseen data, the model still performs as well as the train set.\n",
    "\n",
    "To test the robustness of the model, we split the dataset into train set, validation set and test set with a different random seed. Then perform the training, validation and testing process again, to see if the outcome changes a lot."
   ]
  },
  {
   "cell_type": "code",
   "execution_count": 34,
   "metadata": {},
   "outputs": [
    {
     "name": "stdout",
     "output_type": "stream",
     "text": [
      "Train set has 146752 samples.\n",
      "Validation set has 48918 samples.\n",
      "Test set has 48918 samples.\n"
     ]
    }
   ],
   "source": [
    "# Split the 'features' and 'income' data into training and testing sets\n",
    "X_train_val_1, X_test_1, y_train_val_1, y_test_1 = \\\n",
    "train_test_split(features_data, price_data, test_size = 0.2, random_state = 500)\n",
    "X_train_1,X_val_1,y_train_1,y_val_1=\\\n",
    "train_test_split(X_train_val_1, y_train_val_1, test_size = 0.25, random_state = 500)\n",
    "X_train_1=np.array(X_train_1)\n",
    "y_train_1=np.array(y_train_1)\n",
    "X_val_1=np.array(X_val_1)\n",
    "y_val_1=np.array(y_val_1)\n",
    "X_test_1=np.array(X_test_1)\n",
    "y_test_1=np.array(y_test_1)\n",
    "\n",
    "# Show the results of the split\n",
    "print \"Train set has {} samples.\".format(X_train_1.shape[0])\n",
    "print \"Validation set has {} samples.\".format(X_val_1.shape[0])\n",
    "print \"Test set has {} samples.\".format(X_test_1.shape[0])"
   ]
  },
  {
   "cell_type": "code",
   "execution_count": 35,
   "metadata": {},
   "outputs": [
    {
     "name": "stdout",
     "output_type": "stream",
     "text": [
      "_________________________________________________________________\n",
      "Layer (type)                 Output Shape              Param #   \n",
      "=================================================================\n",
      "dense_11 (Dense)             (None, 128)               54400     \n",
      "_________________________________________________________________\n",
      "dense_12 (Dense)             (None, 64)                8256      \n",
      "_________________________________________________________________\n",
      "dense_13 (Dense)             (None, 32)                2080      \n",
      "_________________________________________________________________\n",
      "dense_14 (Dense)             (None, 8)                 264       \n",
      "_________________________________________________________________\n",
      "dense_15 (Dense)             (None, 1)                 9         \n",
      "=================================================================\n",
      "Total params: 65,009\n",
      "Trainable params: 65,009\n",
      "Non-trainable params: 0\n",
      "_________________________________________________________________\n"
     ]
    }
   ],
   "source": [
    "price_predictor_1 = Sequential()\n",
    "\n",
    "price_predictor_1.add(Dense(128,activation='relu', input_dim=424))\n",
    "price_predictor_1.add(Dense(64))\n",
    "price_predictor_1.add(Dense(32,activation='relu'))\n",
    "price_predictor_1.add(Dense(8))\n",
    "price_predictor_1.add(Dense(1))\n",
    "price_predictor_1.summary()"
   ]
  },
  {
   "cell_type": "code",
   "execution_count": 36,
   "metadata": {},
   "outputs": [
    {
     "name": "stdout",
     "output_type": "stream",
     "text": [
      "Epoch 00000: val_loss improved from inf to 3758.15326, saving model to price_model_1_best.hdf5\n",
      "Epoch 00001: val_loss improved from 3758.15326 to 2462.45249, saving model to price_model_1_best.hdf5\n",
      "Epoch 00002: val_loss improved from 2462.45249 to 2090.30671, saving model to price_model_1_best.hdf5\n",
      "Epoch 00003: val_loss improved from 2090.30671 to 1871.88765, saving model to price_model_1_best.hdf5\n",
      "Epoch 00004: val_loss improved from 1871.88765 to 1687.54931, saving model to price_model_1_best.hdf5\n",
      "Epoch 00005: val_loss improved from 1687.54931 to 1568.79535, saving model to price_model_1_best.hdf5\n",
      "Epoch 00006: val_loss improved from 1568.79535 to 1501.71761, saving model to price_model_1_best.hdf5\n",
      "Epoch 00007: val_loss improved from 1501.71761 to 1465.83521, saving model to price_model_1_best.hdf5\n",
      "Epoch 00008: val_loss improved from 1465.83521 to 1445.52066, saving model to price_model_1_best.hdf5\n",
      "Epoch 00009: val_loss improved from 1445.52066 to 1425.88438, saving model to price_model_1_best.hdf5\n",
      "Epoch 00010: val_loss improved from 1425.88438 to 1411.57629, saving model to price_model_1_best.hdf5\n",
      "Epoch 00011: val_loss improved from 1411.57629 to 1406.03789, saving model to price_model_1_best.hdf5\n",
      "Epoch 00012: val_loss improved from 1406.03789 to 1371.39144, saving model to price_model_1_best.hdf5\n",
      "Epoch 00013: val_loss improved from 1371.39144 to 1365.63124, saving model to price_model_1_best.hdf5\n",
      "Epoch 00014: val_loss improved from 1365.63124 to 1354.34094, saving model to price_model_1_best.hdf5\n",
      "Epoch 00015: val_loss did not improve\n",
      "Epoch 00016: val_loss improved from 1354.34094 to 1341.36445, saving model to price_model_1_best.hdf5\n",
      "Epoch 00017: val_loss improved from 1341.36445 to 1329.23918, saving model to price_model_1_best.hdf5\n",
      "Epoch 00018: val_loss improved from 1329.23918 to 1323.55317, saving model to price_model_1_best.hdf5\n",
      "Epoch 00019: val_loss improved from 1323.55317 to 1323.34456, saving model to price_model_1_best.hdf5\n"
     ]
    },
    {
     "data": {
      "text/plain": [
       "<keras.callbacks.History at 0x140855f90>"
      ]
     },
     "execution_count": 36,
     "metadata": {},
     "output_type": "execute_result"
    }
   ],
   "source": [
    "price_predictor_1.compile(optimizer='Adam', loss=loss_function)\n",
    "checkpointer4 = ModelCheckpoint(filepath='price_model_1_best.hdf5', \n",
    "                               verbose=1, save_best_only=True)\n",
    "price_predictor_1.fit(X_train_1, y_train_1, \n",
    "          validation_data=[X_val_1,y_val_1],\n",
    "          epochs=20, batch_size=500, callbacks=[checkpointer4],verbose=0)"
   ]
  },
  {
   "cell_type": "code",
   "execution_count": 37,
   "metadata": {},
   "outputs": [
    {
     "name": "stdout",
     "output_type": "stream",
     "text": [
      "48768/48918 [============================>.] - ETA: 0s"
     ]
    },
    {
     "data": {
      "text/plain": [
       "'The final model gets a score of 1344.15613269 for the alternative test set.'"
      ]
     },
     "metadata": {},
     "output_type": "display_data"
    }
   ],
   "source": [
    "price_predictor_1.load_weights('price_model_1_best.hdf5')\n",
    "score=price_predictor_1.evaluate(X_test_1,y_test_1,verbose=1)\n",
    "display(\"The final model gets a score of {} for the alternative test set.\".format(score))"
   ]
  },
  {
   "cell_type": "markdown",
   "metadata": {},
   "source": [
    "As can be seen, there is no significant change in the training process and the final score, so the model is robust to small changes of input data.\n",
    "\n"
   ]
  },
  {
   "cell_type": "code",
   "execution_count": 38,
   "metadata": {
    "collapsed": true
   },
   "outputs": [],
   "source": [
    "price_prediction=price_predictor.predict(X_test)"
   ]
  },
  {
   "cell_type": "markdown",
   "metadata": {},
   "source": [
    "### Justification:"
   ]
  },
  {
   "cell_type": "markdown",
   "metadata": {},
   "source": [
    "Using the mean absolute error as the metric, the benchmark model gets a score of approximately 5440, while the final model gets a score of approximately 1340. So the final model makes predictions with much less absolute error compared to the benchmark model."
   ]
  },
  {
   "cell_type": "markdown",
   "metadata": {},
   "source": [
    "Randomly pick 50 samples from the test set and compare the actual price and price prediction, for most of the samples, the model makes good predictions, i.e., the predicted price is much closer to the actual price, compared to the naive mean prediction."
   ]
  },
  {
   "cell_type": "code",
   "execution_count": 39,
   "metadata": {},
   "outputs": [
    {
     "data": {
      "text/plain": [
       "<matplotlib.legend.Legend at 0x1452c7e50>"
      ]
     },
     "execution_count": 39,
     "metadata": {},
     "output_type": "execute_result"
    },
    {
     "data": {
      "image/png": "[encoded data removed]",
      "text/plain": [
       "<matplotlib.figure.Figure at 0x145308890>"
      ]
     },
     "metadata": {},
     "output_type": "display_data"
    }
   ],
   "source": [
    "import random\n",
    "num_samples=50\n",
    "idx=random.sample(range(len(y_test)),num_samples)\n",
    "plt.plot(range(num_samples),y_test[idx],'ro-')\n",
    "plt.plot(range(num_samples),price_prediction[idx],'bx-')\n",
    "plt.plot(range(num_samples),naive_prediction[idx],'g-')\n",
    "plt.ylabel(\"price\")\n",
    "plt.legend([\"actual price\",'predicted price','mean price'])"
   ]
  },
  {
   "cell_type": "markdown",
   "metadata": {},
   "source": [
    "However, there are some samples having large error between the prediction price and the actual price, especially for those records with actual prices larger than $10000. Two possible factors contributes to this phenomenon:\n",
    "\n",
    "1. More than 78% of the data have prices less than \\$10000. So train data for cars with prices higher than $10000 is in a small size. The inaccurate prediction to cars with high actual prices may be due to inadequate data for training the model.\n",
    "\n",
    "2. The price of the advertised used car is not the exact value of that car. Because that price is affected by personal factors of an advertiser, so this price is not only determined by the details of a used car, but also related to the advertiser. However, there is no information about the advertiser in the dataset. Therefore, the inaccurate prediction to cars may also be due to inadequate information from the dataset."
   ]
  },
  {
   "cell_type": "code",
   "execution_count": 40,
   "metadata": {},
   "outputs": [
    {
     "data": {
      "text/plain": [
       "'There are 78.854236512% records with price less than $10000 in the dataset'"
      ]
     },
     "metadata": {},
     "output_type": "display_data"
    }
   ],
   "source": [
    "display(\"There are {}% records with price less than $10000 in the dataset\".\\\n",
    "        format(100.0*len(input_data[input_data.price<=10000])/len(input_data)))"
   ]
  },
  {
   "cell_type": "markdown",
   "metadata": {},
   "source": [
    "From all the above, when the model's prediction is less than $10000, it can be taken as a relatively accurate prediction. While if the prediction is larger than 10000, it can be seen as a reference to indicate approximately in what range of the used car's price is, but is not accurate enough to directly evaluate the used car."
   ]
  },
  {
   "cell_type": "markdown",
   "metadata": {},
   "source": [
    "## V. Conclusion"
   ]
  },
  {
   "cell_type": "markdown",
   "metadata": {},
   "source": [
    "### Free-Form visualization:"
   ]
  },
  {
   "cell_type": "markdown",
   "metadata": {},
   "source": [
    "In the previous section, generally we see that prediction prices are more accurate for cars with low actual prices. We plot the absolute error for records ordered by actual prices to see if that conclusion makes sense. From the plot, it is seen that for most records with actual prices less than $10000, the absolute error keeps low. As long as the actual prices gets higher, the absolute error gets higher as well. Meanwhile, when the actual price is extremely low, the absolute error is also in a high level."
   ]
  },
  {
   "cell_type": "code",
   "execution_count": 41,
   "metadata": {},
   "outputs": [
    {
     "data": {
      "text/plain": [
       "<matplotlib.legend.Legend at 0x145405810>"
      ]
     },
     "execution_count": 41,
     "metadata": {},
     "output_type": "execute_result"
    },
    {
     "data": {
      "image/png": "[encoded data removed]",
      "text/plain": [
       "<matplotlib.figure.Figure at 0x1177ec3d0>"
      ]
     },
     "metadata": {},
     "output_type": "display_data"
    }
   ],
   "source": [
    "array1=y_test.reshape(np.shape(price_prediction))\n",
    "price_max=np.concatenate((array1,price_prediction),axis=1)\n",
    "sorted_price_max=price_max[price_max[:,0].argsort()]\n",
    "plt.plot(abs(sorted_price_max[:,1]-sorted_price_max[:,0]),'r')\n",
    "plt.plot(sorted_price_max[:,0],'b')\n",
    "plt.plot(np.ones(len(y_test))*10000,'g')\n",
    "plt.title(\"Absolute error for records with order of ascending actual prices\")\n",
    "plt.xlabel(\"Records sorted by actual prices in an ascending order\")\n",
    "plt.ylabel(\"Absolute error\")\n",
    "plt.legend([\"error\",\"actual price\",\"$10000\"])"
   ]
  },
  {
   "cell_type": "markdown",
   "metadata": {},
   "source": [
    "The above observation suggests that the model performs differently for three types of data. It produces high absolute error for cars with very low or very high advertised prices, and makes more accurate predictions for cars with actual prices within a range that is neither too low nor too high. This can be verified by train a model for only records with actual prices within the range of [500,10000]."
   ]
  },
  {
   "cell_type": "code",
   "execution_count": 42,
   "metadata": {
    "collapsed": true
   },
   "outputs": [],
   "source": [
    "narrow_data=input_data[(input_data.price>=500) & (input_data.price<=10000)]"
   ]
  },
  {
   "cell_type": "code",
   "execution_count": 43,
   "metadata": {},
   "outputs": [
    {
     "data": {
      "text/plain": [
       "'There are 420 input features after one-hot encoding.'"
      ]
     },
     "metadata": {},
     "output_type": "display_data"
    }
   ],
   "source": [
    "price_data_1=narrow_data['price']\n",
    "features_data_1=narrow_data.drop('price',1)\n",
    "scaler = MinMaxScaler()\n",
    "numerical = ['yearOfRegistration', 'powerPS', 'kilometer','dateCrawled','dateCreated','lastSeen']\n",
    "features_data_1[numerical] = scaler.fit_transform(narrow_data[numerical])\n",
    "features_data_1 = pd.get_dummies(features_data_1)\n",
    "encoded_1 = list(features_data_1.columns)\n",
    "display(\"There are {} input features after one-hot encoding.\".format(len(encoded_1)))"
   ]
  },
  {
   "cell_type": "code",
   "execution_count": 44,
   "metadata": {},
   "outputs": [
    {
     "name": "stdout",
     "output_type": "stream",
     "text": [
      "Train set has 111311 samples.\n",
      "Validation set has 37104 samples.\n",
      "Test set has 37104 samples.\n"
     ]
    }
   ],
   "source": [
    "X_train_val_2, X_test_2, y_train_val_2, y_test_2 = \\\n",
    "train_test_split(features_data_1, price_data_1, test_size = 0.2, random_state = 0)\n",
    "X_train_2,X_val_2,y_train_2,y_val_2=\\\n",
    "train_test_split(X_train_val_2, y_train_val_2, test_size = 0.25, random_state = 0)\n",
    "X_train_2=np.array(X_train_2)\n",
    "y_train_2=np.array(y_train_2)\n",
    "X_val_2=np.array(X_val_2)\n",
    "y_val_2=np.array(y_val_2)\n",
    "X_test_2=np.array(X_test_2)\n",
    "y_test_2=np.array(y_test_2)\n",
    "\n",
    "# Show the results of the split\n",
    "print \"Train set has {} samples.\".format(X_train_2.shape[0])\n",
    "print \"Validation set has {} samples.\".format(X_val_2.shape[0])\n",
    "print \"Test set has {} samples.\".format(X_test_2.shape[0])"
   ]
  },
  {
   "cell_type": "code",
   "execution_count": 45,
   "metadata": {},
   "outputs": [
    {
     "name": "stdout",
     "output_type": "stream",
     "text": [
      "_________________________________________________________________\n",
      "Layer (type)                 Output Shape              Param #   \n",
      "=================================================================\n",
      "dense_16 (Dense)             (None, 128)               53888     \n",
      "_________________________________________________________________\n",
      "dense_17 (Dense)             (None, 64)                8256      \n",
      "_________________________________________________________________\n",
      "dense_18 (Dense)             (None, 32)                2080      \n",
      "_________________________________________________________________\n",
      "dense_19 (Dense)             (None, 8)                 264       \n",
      "_________________________________________________________________\n",
      "dense_20 (Dense)             (None, 1)                 9         \n",
      "=================================================================\n",
      "Total params: 64,497\n",
      "Trainable params: 64,497\n",
      "Non-trainable params: 0\n",
      "_________________________________________________________________\n"
     ]
    }
   ],
   "source": [
    "price_predictor_2 = Sequential()\n",
    "\n",
    "price_predictor_2.add(Dense(128,activation='relu', input_dim=420))\n",
    "price_predictor_2.add(Dense(64))\n",
    "price_predictor_2.add(Dense(32,activation='relu'))\n",
    "price_predictor_2.add(Dense(8))\n",
    "price_predictor_2.add(Dense(1))\n",
    "price_predictor_2.summary()"
   ]
  },
  {
   "cell_type": "code",
   "execution_count": 46,
   "metadata": {},
   "outputs": [
    {
     "name": "stdout",
     "output_type": "stream",
     "text": [
      "Epoch 00000: val_loss improved from inf to 1856.86120, saving model to price_model_2_best.hdf5\n",
      "Epoch 00001: val_loss improved from 1856.86120 to 1529.83587, saving model to price_model_2_best.hdf5\n",
      "Epoch 00002: val_loss improved from 1529.83587 to 1329.61886, saving model to price_model_2_best.hdf5\n",
      "Epoch 00003: val_loss improved from 1329.61886 to 1215.28346, saving model to price_model_2_best.hdf5\n",
      "Epoch 00004: val_loss improved from 1215.28346 to 1116.82083, saving model to price_model_2_best.hdf5\n",
      "Epoch 00005: val_loss improved from 1116.82083 to 996.77546, saving model to price_model_2_best.hdf5\n",
      "Epoch 00006: val_loss improved from 996.77546 to 922.22771, saving model to price_model_2_best.hdf5\n",
      "Epoch 00007: val_loss improved from 922.22771 to 862.53282, saving model to price_model_2_best.hdf5\n",
      "Epoch 00008: val_loss improved from 862.53282 to 845.82636, saving model to price_model_2_best.hdf5\n",
      "Epoch 00009: val_loss improved from 845.82636 to 836.70909, saving model to price_model_2_best.hdf5\n",
      "Epoch 00010: val_loss improved from 836.70909 to 831.67008, saving model to price_model_2_best.hdf5\n",
      "Epoch 00011: val_loss improved from 831.67008 to 822.74462, saving model to price_model_2_best.hdf5\n",
      "Epoch 00012: val_loss improved from 822.74462 to 816.39516, saving model to price_model_2_best.hdf5\n",
      "Epoch 00013: val_loss improved from 816.39516 to 811.52949, saving model to price_model_2_best.hdf5\n",
      "Epoch 00014: val_loss did not improve\n",
      "Epoch 00015: val_loss improved from 811.52949 to 806.61553, saving model to price_model_2_best.hdf5\n",
      "Epoch 00016: val_loss improved from 806.61553 to 799.83905, saving model to price_model_2_best.hdf5\n",
      "Epoch 00017: val_loss did not improve\n",
      "Epoch 00018: val_loss improved from 799.83905 to 799.39680, saving model to price_model_2_best.hdf5\n",
      "Epoch 00019: val_loss did not improve\n"
     ]
    },
    {
     "data": {
      "text/plain": [
       "<keras.callbacks.History at 0x1436cbe50>"
      ]
     },
     "execution_count": 46,
     "metadata": {},
     "output_type": "execute_result"
    }
   ],
   "source": [
    "price_predictor_2.compile(optimizer='Adam', loss=loss_function)\n",
    "checkpointer5 = ModelCheckpoint(filepath='price_model_2_best.hdf5', \n",
    "                               verbose=1, save_best_only=True)\n",
    "price_predictor_2.fit(X_train_2, y_train_2, \n",
    "          validation_data=[X_val_2,y_val_2],\n",
    "          epochs=20, batch_size=500, callbacks=[checkpointer5],verbose=0)"
   ]
  },
  {
   "cell_type": "code",
   "execution_count": 47,
   "metadata": {},
   "outputs": [
    {
     "name": "stdout",
     "output_type": "stream",
     "text": [
      "36608/37104 [============================>.] - ETA: 0s"
     ]
    },
    {
     "data": {
      "text/plain": [
       "'The model gets a score of 811.788090386 for the test set.'"
      ]
     },
     "metadata": {},
     "output_type": "display_data"
    }
   ],
   "source": [
    "price_predictor_2.load_weights('price_model_2_best.hdf5')\n",
    "score=price_predictor_2.evaluate(X_test_2,y_test_2,verbose=1)\n",
    "display(\"The model gets a score of {} for the test set.\".format(score))"
   ]
  },
  {
   "cell_type": "markdown",
   "metadata": {},
   "source": [
    "By only using data with prices in a narrow range, the model's performance is improved. So building a submodel to determine if the used car is in a normal price class, a low price class or a high price class, then train models differently according to each class will improve the model's performance for the whole dataset."
   ]
  },
  {
   "cell_type": "markdown",
   "metadata": {},
   "source": [
    "### Reflection:"
   ]
  },
  {
   "cell_type": "markdown",
   "metadata": {},
   "source": [
    "The process to solve the problem in this project is as following:\n",
    "\n",
    "1. A proposed problem and its related dataset were found, described, and presented.\n",
    "\n",
    "2. The dataset was investigated by sample observation, statistical investigation and visualization.\n",
    "\n",
    "3. The candidate model and metrics were discussed.\n",
    "\n",
    "4. The dataset was preprocessed and then be transformed into input data for training, validating, and testing the model.\n",
    "\n",
    "5. A benckmark model was implemented and tested.\n",
    "\n",
    "6. The neural network model was then implemented and improved from a simple linear model to a complicate nonlinear model.\n",
    "\n",
    "7. Hyperparameters of the final model were tuned.\n",
    "\n",
    "8. Model's outcome were observed and investigated. An experiment was taken to suggest a potential way to further improve the model.\n",
    "\n",
    "It takes a lot of time in the stage 7 to tune the hyperparameters. At first, as more as possible layers and nodes are taken, then to reduce the overfitting, less and less layers and nodes are taken. At some point the model performance will decrease due to underfitting, then a finer search will be applied near that point of hyperparameters to find out the best model.\n",
    "\n",
    "It also needs a lot of efforts to clean the abnormal records in dataset and preprocess the remained the data. Some ranges have been applied the the numerical fields to filter out the outliers from the data. While those ranges could be adjusted and will definitely affect the model's performance, as shown in the previous subsection.\n",
    "\n",
    "It should noted that, the dataset itself may have some defects that can not be repaired. By realizing this, the process of collecting precise, accurate, relevant data with comprehensive information is one the most factors for successfully solving a real problem."
   ]
  },
  {
   "cell_type": "markdown",
   "metadata": {},
   "source": [
    "### Improvement:"
   ]
  },
  {
   "cell_type": "markdown",
   "metadata": {},
   "source": [
    "As discussed before, a hybrid model may be developed as following to improve the outcome of this project:\n",
    "\n",
    "1. A classification model is first trained to make a prediction of in what range a used car's price falls. There are three group of the used cars with prices in low range, normal range and high range, for example ranges of (0,500), [500,10000], (10000, 1000000].\n",
    "\n",
    "2. For each class, a separate model will be trained with respect to the specific group of the data.\n",
    "\n",
    "3. The two models will be combined to produce a hybrid model for generating predictions for used cars."
   ]
  }
 ],
 "metadata": {
  "kernelspec": {
   "display_name": "Python 2",
   "language": "python",
   "name": "python2"
  },
  "language_info": {
   "codemirror_mode": {
    "name": "ipython",
    "version": 2
   },
   "file_extension": ".py",
   "mimetype": "text/x-python",
   "name": "python",
   "nbconvert_exporter": "python",
   "pygments_lexer": "ipython2",
   "version": "2.7.13"
  }
 },
 "nbformat": 4,
 "nbformat_minor": 2
}
